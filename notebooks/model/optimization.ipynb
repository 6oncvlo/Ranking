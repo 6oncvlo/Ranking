{
 "cells": [
  {
   "cell_type": "code",
   "execution_count": 1,
   "id": "6fa35c35",
   "metadata": {},
   "outputs": [],
   "source": [
    "import sys\n",
    "import os\n",
    "\n",
    "sys.path.append(os.path.abspath('..\\..'))\n",
    "\n",
    "import yaml\n",
    "import pandas as pd\n",
    "import optuna\n",
    "\n",
    "from src.data.load import load_data\n",
    "from src.data.prepare import prepare_data\n",
    "from src.models.baseline import baseline_model\n",
    "from src.models.cv_iterator import leave_last_k\n",
    "from src.features.features import feature_engineering\n",
    "from src.models.retrieval import candidate_generation\n",
    "from src.features.utils import build_rank_input\n",
    "from src.models.tuner import BayesianSearch\n",
    "from src.models.evaluator import evaluation"
   ]
  },
  {
   "cell_type": "code",
   "execution_count": 2,
   "id": "0cbdb26b",
   "metadata": {},
   "outputs": [],
   "source": [
    "# read config\n",
    "with open('..\\config.yml', 'r') as file:\n",
    "    config=yaml.load(file, Loader= yaml.SafeLoader)\n",
    "del file"
   ]
  },
  {
   "cell_type": "code",
   "execution_count": 3,
   "id": "de3ceb8d",
   "metadata": {},
   "outputs": [],
   "source": [
    "# load and prepare data\n",
    "dfs = load_data(config=config['data_loader'])\n",
    "dfs = prepare_data(dataframes=dfs)"
   ]
  },
  {
   "cell_type": "code",
   "execution_count": 4,
   "id": "24edad59",
   "metadata": {},
   "outputs": [
    {
     "name": "stdout",
     "output_type": "stream",
     "text": [
      "0.9168812846621082\n"
     ]
    }
   ],
   "source": [
    "# baseline model accuracy\n",
    "df_baseline = baseline_model(dataframes=dfs, n=10)\n",
    "group = df_baseline.groupby('user_id').size().to_list()\n",
    "\n",
    "print(evaluation(df_baseline['rating'], df_baseline['est_rating'], group))\n",
    "del group"
   ]
  },
  {
   "cell_type": "code",
   "execution_count": 5,
   "id": "bbe7e5ce",
   "metadata": {},
   "outputs": [],
   "source": [
    "# train-test split\n",
    "df_train, df_test = leave_last_k(df=dfs['data'], config=config['optimization'])\n",
    "df_train, df_valid = leave_last_k(df=df_train, config=config['optimization'])"
   ]
  },
  {
   "cell_type": "code",
   "execution_count": 6,
   "id": "442d5f43",
   "metadata": {},
   "outputs": [],
   "source": [
    "# generate candidates and create features\n",
    "candidates = candidate_generation(df_train, config['optimization']['retrieval'])\n",
    "df_train = pd.concat([df_train.iloc[:,:3], candidates['positive'], candidates['negative']], ignore_index=True)\n",
    "user_item_features = feature_engineering(\n",
    "    dataframes={'user': dfs['user'], 'item': dfs['item'], 'data': df_train}\n",
    "    )\n",
    "\n",
    "df_train, df_valid = [\n",
    "    build_rank_input(ratings=df.iloc[:,:3], features=user_item_features)\n",
    "    for df in (df_train, df_valid)\n",
    "    ]\n",
    "\n",
    "del candidates, user_item_features"
   ]
  },
  {
   "cell_type": "code",
   "execution_count": 7,
   "id": "bc2fdc26",
   "metadata": {},
   "outputs": [
    {
     "name": "stderr",
     "output_type": "stream",
     "text": [
      "[I 2025-04-25 19:08:14,691] A new study created in memory with name: no-name-a7b09356-a96a-4b2e-83ec-a21294b8e37d\n",
      "[I 2025-04-25 19:08:19,482] Trial 0 finished with value: 0.9448879323919251 and parameters: {'learning_rate': 0.16730167981398847, 'gamma': 2.0297079808192398, 'max_depth': 13, 'subsample': 0.7719818423957301, 'n_estimators': 68}. Best is trial 0 with value: 0.9448879323919251.\n",
      "[I 2025-04-25 19:08:35,941] Trial 1 finished with value: 0.946035927296629 and parameters: {'learning_rate': 0.25142009280712985, 'gamma': 7.873590441806872, 'max_depth': 15, 'subsample': 0.6654435151508664, 'n_estimators': 339}. Best is trial 1 with value: 0.946035927296629.\n",
      "[I 2025-04-25 19:08:39,470] Trial 2 finished with value: 0.9465518568658565 and parameters: {'learning_rate': 0.270512714099771, 'gamma': 9.52874441821011, 'max_depth': 11, 'subsample': 0.5533369388362792, 'n_estimators': 56}. Best is trial 2 with value: 0.9465518568658565.\n",
      "[I 2025-04-25 19:08:52,040] Trial 3 finished with value: 0.9467336655389988 and parameters: {'learning_rate': 0.11250753955962761, 'gamma': 8.492111801922281, 'max_depth': 8, 'subsample': 0.759928713317594, 'n_estimators': 332}. Best is trial 3 with value: 0.9467336655389988.\n",
      "[I 2025-04-25 19:09:05,762] Trial 4 finished with value: 0.9460769287802825 and parameters: {'learning_rate': 0.41890702022893744, 'gamma': 4.171374038706126, 'max_depth': 8, 'subsample': 0.7581363131930079, 'n_estimators': 360}. Best is trial 3 with value: 0.9467336655389988.\n",
      "[I 2025-04-25 19:09:11,090] Trial 5 finished with value: 0.9461499262341594 and parameters: {'learning_rate': 0.41905060283792755, 'gamma': 9.61042720462972, 'max_depth': 15, 'subsample': 0.6150742461101912, 'n_estimators': 118}. Best is trial 3 with value: 0.9467336655389988.\n",
      "[I 2025-04-25 19:09:21,663] Trial 6 finished with value: 0.9472523370118032 and parameters: {'learning_rate': 0.0738917974562371, 'gamma': 4.853881784619486, 'max_depth': 3, 'subsample': 0.8000361468797555, 'n_estimators': 251}. Best is trial 6 with value: 0.9472523370118032.\n",
      "[I 2025-04-25 19:09:26,093] Trial 7 finished with value: 0.9453640220298836 and parameters: {'learning_rate': 0.2998602079075872, 'gamma': 9.520985431425654, 'max_depth': 6, 'subsample': 0.8884600657752062, 'n_estimators': 101}. Best is trial 6 with value: 0.9472523370118032.\n",
      "[I 2025-04-25 19:09:44,538] Trial 8 finished with value: 0.9428674784556343 and parameters: {'learning_rate': 0.015506880894826113, 'gamma': 0.35449634857751655, 'max_depth': 13, 'subsample': 0.8531847369764498, 'n_estimators': 212}. Best is trial 6 with value: 0.9472523370118032.\n",
      "[I 2025-04-25 19:09:54,345] Trial 9 finished with value: 0.9460501963606832 and parameters: {'learning_rate': 0.04057930380621973, 'gamma': 6.551657113998182, 'max_depth': 5, 'subsample': 0.6624729889481716, 'n_estimators': 209}. Best is trial 6 with value: 0.9472523370118032.\n",
      "[I 2025-04-25 19:10:05,352] Trial 10 finished with value: 0.9466174415463232 and parameters: {'learning_rate': 0.1435214648767668, 'gamma': 4.492449116231355, 'max_depth': 4, 'subsample': 0.9134826541174432, 'n_estimators': 276}. Best is trial 6 with value: 0.9472523370118032.\n",
      "[I 2025-04-25 19:10:18,157] Trial 11 finished with value: 0.9469347022673794 and parameters: {'learning_rate': 0.11301757880822144, 'gamma': 6.356195919037067, 'max_depth': 3, 'subsample': 0.7964205681379491, 'n_estimators': 291}. Best is trial 6 with value: 0.9472523370118032.\n",
      "[I 2025-04-25 19:10:29,883] Trial 12 finished with value: 0.9470610872467462 and parameters: {'learning_rate': 0.0808044491635776, 'gamma': 6.226525802391437, 'max_depth': 3, 'subsample': 0.9944430752918483, 'n_estimators': 272}. Best is trial 6 with value: 0.9472523370118032.\n",
      "[I 2025-04-25 19:10:40,089] Trial 13 finished with value: 0.942579244686335 and parameters: {'learning_rate': 0.0027484860506122727, 'gamma': 2.851448255414638, 'max_depth': 6, 'subsample': 0.9721099774440966, 'n_estimators': 167}. Best is trial 6 with value: 0.9472523370118032.\n",
      "[I 2025-04-25 19:10:49,785] Trial 14 finished with value: 0.9468775455201307 and parameters: {'learning_rate': 0.18265294455572917, 'gamma': 5.808965860814712, 'max_depth': 3, 'subsample': 0.940968875332889, 'n_estimators': 268}. Best is trial 6 with value: 0.9472523370118032.\n",
      "[I 2025-04-25 19:11:00,183] Trial 15 finished with value: 0.9453285488088607 and parameters: {'learning_rate': 0.0766917038720456, 'gamma': 3.0333063765123, 'max_depth': 6, 'subsample': 0.8426882995138233, 'n_estimators': 246}. Best is trial 6 with value: 0.9472523370118032.\n",
      "[I 2025-04-25 19:11:09,989] Trial 16 finished with value: 0.9464214704200093 and parameters: {'learning_rate': 0.3456934835203126, 'gamma': 7.365135133789996, 'max_depth': 10, 'subsample': 0.6895330944365171, 'n_estimators': 170}. Best is trial 6 with value: 0.9472523370118032.\n",
      "[I 2025-04-25 19:11:23,011] Trial 17 finished with value: 0.9466202997727964 and parameters: {'learning_rate': 0.20789805253132904, 'gamma': 5.194960061336303, 'max_depth': 4, 'subsample': 0.9918982477751332, 'n_estimators': 391}. Best is trial 6 with value: 0.9472523370118032.\n",
      "[I 2025-04-25 19:11:31,946] Trial 18 finished with value: 0.9457521646219357 and parameters: {'learning_rate': 0.48417848798238483, 'gamma': 3.5910127693527842, 'max_depth': 8, 'subsample': 0.8312660722026899, 'n_estimators': 311}. Best is trial 6 with value: 0.9472523370118032.\n",
      "[I 2025-04-25 19:11:40,602] Trial 19 finished with value: 0.9467125523652682 and parameters: {'learning_rate': 0.06943035486552981, 'gamma': 5.434612910036662, 'max_depth': 3, 'subsample': 0.5465991058275039, 'n_estimators': 177}. Best is trial 6 with value: 0.9472523370118032.\n"
     ]
    },
    {
     "name": "stdout",
     "output_type": "stream",
     "text": [
      "Best trial:\n",
      " {'learning_rate': 0.0738917974562371, 'gamma': 4.853881784619486, 'max_depth': 3, 'subsample': 0.8000361468797555, 'n_estimators': 251}\n"
     ]
    }
   ],
   "source": [
    "# perform bayesian search\n",
    "searcher = BayesianSearch(config['optimization']['hyper_params'], algorithm='XGBRanker')\n",
    "\n",
    "def objective(trial) -> float:\n",
    "    return searcher.fit(df_train, df_valid, trial)\n",
    "\n",
    "study = optuna.create_study(direction='maximize')\n",
    "study.optimize(objective, n_trials=20)\n",
    "\n",
    "print(\"Best trial:\\n\", study.best_trial.params)\n",
    "del searcher"
   ]
  },
  {
   "cell_type": "code",
   "execution_count": 8,
   "id": "9039a41b",
   "metadata": {},
   "outputs": [],
   "source": [
    "# use indicator to know the origin\n",
    "df_train = dfs['data'].merge(\n",
    "    df_test\n",
    "    , on=['user_id', 'item_id', 'rating'], how='left'\n",
    "    , indicator=True\n",
    "    )\n",
    "# keep only rows that are present in df1 but not in df2\n",
    "df_train = df_train[df_train['_merge'] == 'left_only'].drop(columns=['_merge'])\n",
    "\n",
    "# create features\n",
    "user_item_features = feature_engineering(\n",
    "    dataframes={'user': dfs['user'], 'item': dfs['item'], 'data': df_train}\n",
    "    )\n",
    "\n",
    "# generate candidates\n",
    "candidates = candidate_generation(df_train, config['optimization']['retrieval'])\n",
    "df_train_ = pd.concat([df_train.iloc[:,:3], candidates['positive'], candidates['negative']], ignore_index=True)\n",
    "\n",
    "df_train_, df_test_ = [\n",
    "    build_rank_input(ratings=df.iloc[:,:3], features=user_item_features) for df in (df_train_, df_test)\n",
    "    ]\n",
    "\n",
    "del candidates, user_item_features"
   ]
  },
  {
   "cell_type": "code",
   "execution_count": 9,
   "id": "bbc255b0",
   "metadata": {},
   "outputs": [
    {
     "name": "stdout",
     "output_type": "stream",
     "text": [
      "0.9528064392223665\n"
     ]
    }
   ],
   "source": [
    "from xgboost import XGBRanker\n",
    "\n",
    "clf = XGBRanker(**study.best_trial.params)\n",
    "clf.fit(\n",
    "    df_train_['X'], df_train_['y'].astype(int)\n",
    "    , group=df_train_['group']\n",
    "    , verbose=False\n",
    "    )\n",
    "\n",
    "preds = clf.predict(df_test_['X'])\n",
    "\n",
    "print(evaluation(df_test_['y'], preds, df_test_['group']))"
   ]
  },
  {
   "cell_type": "code",
   "execution_count": 10,
   "id": "c053c1a5",
   "metadata": {},
   "outputs": [
    {
     "name": "stdout",
     "output_type": "stream",
     "text": [
      "Coverage: 0.6463195691202872\n",
      "Novelty: 0.9984584266355963\n"
     ]
    }
   ],
   "source": [
    "def calculate_metrics(top_items, data):\n",
    "    # Coverage: proportion of unique items recommended\n",
    "    recommended_items = top_items['item_id'].unique()\n",
    "    total_items = data['item_id'].unique()\n",
    "    coverage_score = len(recommended_items) / len(total_items)\n",
    "    \n",
    "    # Novelty: Based on item popularity (inverse)\n",
    "    item_popularity = data.groupby('item_id').size()\n",
    "    item_popularity = item_popularity[item_popularity > 0]\n",
    "    item_popularity = 1 - item_popularity / item_popularity.sum()  # Normalize\n",
    "    novelty_score = top_items['item_id'].map(item_popularity).mean()\n",
    "\n",
    "    return coverage_score, novelty_score\n",
    "\n",
    "# Calculate metrics for the recommendations\n",
    "coverage_score, novelty_score = calculate_metrics(df_test.iloc[:, :2], df_train.iloc[:, :3])\n",
    "# Print out the results\n",
    "print(f'Coverage: {coverage_score}')\n",
    "print(f'Novelty: {novelty_score}')"
   ]
  },
  {
   "cell_type": "code",
   "execution_count": 11,
   "id": "032635c6",
   "metadata": {},
   "outputs": [
    {
     "name": "stdout",
     "output_type": "stream",
     "text": [
      "0.9474741199634648\n"
     ]
    }
   ],
   "source": [
    "user_item_features = feature_engineering(dataframes={\n",
    "    'user': dfs['user'], 'item': dfs['item'], 'data': dfs['data']\n",
    "    })\n",
    "\n",
    "df_baseline = build_rank_input(ratings=df_baseline.drop(columns=['est_rating']), features=user_item_features)\n",
    "\n",
    "preds = clf.predict(df_baseline['X'])\n",
    "print(evaluation(df_baseline['y'], preds, df_baseline['group']))"
   ]
  }
 ],
 "metadata": {
  "kernelspec": {
   "display_name": ".venv",
   "language": "python",
   "name": "python3"
  },
  "language_info": {
   "codemirror_mode": {
    "name": "ipython",
    "version": 3
   },
   "file_extension": ".py",
   "mimetype": "text/x-python",
   "name": "python",
   "nbconvert_exporter": "python",
   "pygments_lexer": "ipython3",
   "version": "3.11.9"
  }
 },
 "nbformat": 4,
 "nbformat_minor": 5
}

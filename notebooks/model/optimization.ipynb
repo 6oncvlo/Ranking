{
 "cells": [
  {
   "cell_type": "code",
   "execution_count": 1,
   "id": "6fa35c35",
   "metadata": {},
   "outputs": [],
   "source": [
    "import sys\n",
    "import os\n",
    "\n",
    "sys.path.append(os.path.abspath('..\\..'))\n",
    "\n",
    "import yaml\n",
    "import pandas as pd\n",
    "import optuna\n",
    "\n",
    "from src.data.load import load_data\n",
    "from src.data.prepare import prepare_data\n",
    "from src.models.cv_iterator import leave_last_k\n",
    "from src.features.features import feature_engineering\n",
    "from src.models.retrieval import candidate_generation\n",
    "from src.features.utils import build_rank_input\n",
    "from src.models.tuner import BayesianSearch\n",
    "from src.models.evaluator import evaluation"
   ]
  },
  {
   "cell_type": "code",
   "execution_count": 2,
   "id": "0cbdb26b",
   "metadata": {},
   "outputs": [],
   "source": [
    "# read config\n",
    "with open('..\\config.yml', 'r') as file:\n",
    "    config=yaml.load(file, Loader= yaml.SafeLoader)\n",
    "del file"
   ]
  },
  {
   "cell_type": "code",
   "execution_count": 3,
   "id": "de3ceb8d",
   "metadata": {},
   "outputs": [],
   "source": [
    "# load and prepare data\n",
    "dfs = load_data(config=config['data_loader'])\n",
    "dfs = prepare_data(dataframes=dfs)"
   ]
  },
  {
   "cell_type": "code",
   "execution_count": 4,
   "id": "bbe7e5ce",
   "metadata": {},
   "outputs": [],
   "source": [
    "# train-test split\n",
    "df_train, df_test = leave_last_k(df=dfs['data'], config=config['optimization'])\n",
    "df_train, df_valid = leave_last_k(df=df_train, config=config['optimization'])"
   ]
  },
  {
   "cell_type": "code",
   "execution_count": 5,
   "id": "7335e682",
   "metadata": {},
   "outputs": [],
   "source": [
    "user_item_features = feature_engineering(\n",
    "    dataframes={'user': dfs['user'], 'item': dfs['item'], 'data': df_train}\n",
    "    )"
   ]
  },
  {
   "cell_type": "code",
   "execution_count": 6,
   "id": "442d5f43",
   "metadata": {},
   "outputs": [],
   "source": [
    "candidates = candidate_generation(df_train, config['optimization']['retrieval'])\n",
    "df_train = pd.concat([df_train.iloc[:,:3], candidates['positive'], candidates['negative']], ignore_index=True)\n",
    "\n",
    "df_train, df_valid = [\n",
    "    build_rank_input(ratings=df.iloc[:,:3], features=user_item_features)\n",
    "    for df in (df_train, df_valid)\n",
    "    ]\n",
    "\n",
    "del candidates, user_item_features"
   ]
  },
  {
   "cell_type": "code",
   "execution_count": 7,
   "id": "bc2fdc26",
   "metadata": {},
   "outputs": [
    {
     "name": "stderr",
     "output_type": "stream",
     "text": [
      "[I 2025-04-25 12:59:37,771] A new study created in memory with name: no-name-c28a2e03-6a5d-4c45-a9ca-271a655c48ea\n",
      "[I 2025-04-25 12:59:43,314] Trial 0 finished with value: 0.9473724259819775 and parameters: {'learning_rate': 0.23249108771063184, 'gamma': 7.893363520730975, 'max_depth': 9, 'subsample': 0.8548384207408888, 'n_estimators': 131}. Best is trial 0 with value: 0.9473724259819775.\n",
      "[I 2025-04-25 12:59:57,060] Trial 1 finished with value: 0.9471506901001964 and parameters: {'learning_rate': 0.01637393864471923, 'gamma': 7.5662374982049165, 'max_depth': 8, 'subsample': 0.7675852090064104, 'n_estimators': 346}. Best is trial 0 with value: 0.9473724259819775.\n",
      "[I 2025-04-25 13:00:08,465] Trial 2 finished with value: 0.9478075371859467 and parameters: {'learning_rate': 0.13962990478284204, 'gamma': 8.330999579356412, 'max_depth': 6, 'subsample': 0.7318297041242805, 'n_estimators': 325}. Best is trial 2 with value: 0.9478075371859467.\n",
      "[I 2025-04-25 13:00:16,670] Trial 3 finished with value: 0.9469549531750302 and parameters: {'learning_rate': 0.10372098102751147, 'gamma': 2.9321346373393755, 'max_depth': 8, 'subsample': 0.8544030889610965, 'n_estimators': 207}. Best is trial 2 with value: 0.9478075371859467.\n",
      "[I 2025-04-25 13:00:28,547] Trial 4 finished with value: 0.9463494559528585 and parameters: {'learning_rate': 0.2765220582159117, 'gamma': 5.453906043241352, 'max_depth': 12, 'subsample': 0.6082531546917127, 'n_estimators': 348}. Best is trial 2 with value: 0.9478075371859467.\n",
      "[I 2025-04-25 13:00:37,589] Trial 5 finished with value: 0.9434285465387575 and parameters: {'learning_rate': 0.3441524663085697, 'gamma': 0.6162502448051455, 'max_depth': 6, 'subsample': 0.6869991955411465, 'n_estimators': 229}. Best is trial 2 with value: 0.9478075371859467.\n",
      "[I 2025-04-25 13:00:40,940] Trial 6 finished with value: 0.9454234651439816 and parameters: {'learning_rate': 0.04923476594609643, 'gamma': 3.23216423503324, 'max_depth': 10, 'subsample': 0.99142130076822, 'n_estimators': 58}. Best is trial 2 with value: 0.9478075371859467.\n",
      "[I 2025-04-25 13:00:47,889] Trial 7 finished with value: 0.9461495291979917 and parameters: {'learning_rate': 0.43882899679290677, 'gamma': 3.921472990727808, 'max_depth': 14, 'subsample': 0.6471130181276478, 'n_estimators': 181}. Best is trial 2 with value: 0.9478075371859467.\n",
      "[I 2025-04-25 13:00:54,985] Trial 8 finished with value: 0.9466061501072264 and parameters: {'learning_rate': 0.16140433636370796, 'gamma': 1.3942031670912536, 'max_depth': 15, 'subsample': 0.7434929837315006, 'n_estimators': 158}. Best is trial 2 with value: 0.9478075371859467.\n",
      "[I 2025-04-25 13:01:01,089] Trial 9 finished with value: 0.947054131895536 and parameters: {'learning_rate': 0.189202332223281, 'gamma': 7.44222706938828, 'max_depth': 8, 'subsample': 0.9926334765477283, 'n_estimators': 143}. Best is trial 2 with value: 0.9478075371859467.\n",
      "[I 2025-04-25 13:01:14,619] Trial 10 finished with value: 0.9466688621068169 and parameters: {'learning_rate': 0.49470777525797704, 'gamma': 9.385530262239518, 'max_depth': 3, 'subsample': 0.5149914069362117, 'n_estimators': 399}. Best is trial 2 with value: 0.9478075371859467.\n",
      "[I 2025-04-25 13:01:23,249] Trial 11 finished with value: 0.9468842041944311 and parameters: {'learning_rate': 0.2901793399701457, 'gamma': 9.85022788326993, 'max_depth': 5, 'subsample': 0.8671201237756937, 'n_estimators': 265}. Best is trial 2 with value: 0.9478075371859467.\n",
      "[I 2025-04-25 13:01:27,054] Trial 12 finished with value: 0.9472911032686013 and parameters: {'learning_rate': 0.1815002177460183, 'gamma': 7.176749359329553, 'max_depth': 11, 'subsample': 0.850028002633811, 'n_estimators': 82}. Best is trial 2 with value: 0.9478075371859467.\n",
      "[I 2025-04-25 13:01:36,595] Trial 13 finished with value: 0.9462638574821183 and parameters: {'learning_rate': 0.11241109725529537, 'gamma': 5.856402258758209, 'max_depth': 6, 'subsample': 0.769295950966042, 'n_estimators': 285}. Best is trial 2 with value: 0.9478075371859467.\n",
      "[I 2025-04-25 13:01:41,879] Trial 14 finished with value: 0.9475673242317351 and parameters: {'learning_rate': 0.35197183944239846, 'gamma': 8.564805030111053, 'max_depth': 4, 'subsample': 0.9112267272296549, 'n_estimators': 114}. Best is trial 2 with value: 0.9478075371859467.\n",
      "[I 2025-04-25 13:01:51,148] Trial 15 finished with value: 0.9465584797196496 and parameters: {'learning_rate': 0.3559176724512957, 'gamma': 8.60300911181734, 'max_depth': 3, 'subsample': 0.9418473902443794, 'n_estimators': 296}. Best is trial 2 with value: 0.9478075371859467.\n",
      "[I 2025-04-25 13:02:01,409] Trial 16 finished with value: 0.9457725215350299 and parameters: {'learning_rate': 0.38206135459554647, 'gamma': 6.197318618283243, 'max_depth': 5, 'subsample': 0.916587687335126, 'n_estimators': 332}. Best is trial 2 with value: 0.9478075371859467.\n",
      "[I 2025-04-25 13:02:05,490] Trial 17 finished with value: 0.9470285507041801 and parameters: {'learning_rate': 0.414353048008136, 'gamma': 8.87465590711442, 'max_depth': 4, 'subsample': 0.7263054579028763, 'n_estimators': 107}. Best is trial 2 with value: 0.9478075371859467.\n",
      "[I 2025-04-25 13:02:13,524] Trial 18 finished with value: 0.9461098786216319 and parameters: {'learning_rate': 0.3088829556842555, 'gamma': 4.5332692861013015, 'max_depth': 6, 'subsample': 0.8030497907383842, 'n_estimators': 242}. Best is trial 2 with value: 0.9478075371859467.\n",
      "[I 2025-04-25 13:02:25,341] Trial 19 finished with value: 0.947065479208222 and parameters: {'learning_rate': 0.2464213418400253, 'gamma': 6.630063044474377, 'max_depth': 4, 'subsample': 0.5838850330617872, 'n_estimators': 393}. Best is trial 2 with value: 0.9478075371859467.\n"
     ]
    },
    {
     "name": "stdout",
     "output_type": "stream",
     "text": [
      "Best trial:\n",
      " {'learning_rate': 0.13962990478284204, 'gamma': 8.330999579356412, 'max_depth': 6, 'subsample': 0.7318297041242805, 'n_estimators': 325}\n"
     ]
    }
   ],
   "source": [
    "# perform bayesian search\n",
    "searcher = BayesianSearch(config['optimization']['hyper_params'], algorithm='XGBRanker')\n",
    "\n",
    "def objective(trial) -> float:\n",
    "    return searcher.fit(df_train, df_valid, trial)\n",
    "\n",
    "study = optuna.create_study(direction='maximize')\n",
    "study.optimize(objective, n_trials=20)\n",
    "\n",
    "print(\"Best trial:\\n\", study.best_trial.params)\n",
    "del searcher"
   ]
  },
  {
   "cell_type": "code",
   "execution_count": 8,
   "id": "9039a41b",
   "metadata": {},
   "outputs": [],
   "source": [
    "# use indicator to know the origin\n",
    "df_train = dfs['data'].merge(\n",
    "    df_test\n",
    "    , on=['user_id', 'item_id', 'rating'], how='left'\n",
    "    , indicator=True\n",
    "    )\n",
    "# keep only rows that are present in df1 but not in df2\n",
    "df_train = df_train[df_train['_merge'] == 'left_only'].drop(columns=['_merge'])\n",
    "\n",
    "user_item_features = feature_engineering(\n",
    "    dataframes={'user': dfs['user'], 'item': dfs['item'], 'data': df_train}\n",
    "    )\n",
    "\n",
    "# add negative and positive sampling\n",
    "candidates = candidate_generation(df_train, config['optimization']['retrieval'])\n",
    "df_train_ = pd.concat([df_train.iloc[:,:3], candidates['positive'], candidates['negative']], ignore_index=True)\n",
    "\n",
    "df_train_, df_test_ = [\n",
    "    build_rank_input(ratings=df.iloc[:,:3], features=user_item_features) for df in (df_train_, df_test)\n",
    "    ]\n",
    "\n",
    "del candidates, user_item_features"
   ]
  },
  {
   "cell_type": "code",
   "execution_count": 9,
   "id": "bbc255b0",
   "metadata": {},
   "outputs": [
    {
     "name": "stdout",
     "output_type": "stream",
     "text": [
      "0.9524184211563961\n"
     ]
    }
   ],
   "source": [
    "from xgboost import XGBRanker\n",
    "\n",
    "clf = XGBRanker(**study.best_trial.params)\n",
    "clf.fit(\n",
    "    df_train_['X'], df_train_['y'].astype(int)\n",
    "    , group=df_train_['group']\n",
    "    , verbose=False\n",
    "    )\n",
    "\n",
    "preds = clf.predict(df_test_['X'])\n",
    "\n",
    "print(evaluation(df_test_['y'], preds, df_test_['group']))"
   ]
  },
  {
   "cell_type": "code",
   "execution_count": 10,
   "id": "c053c1a5",
   "metadata": {},
   "outputs": [
    {
     "name": "stdout",
     "output_type": "stream",
     "text": [
      "Coverage: 0.6463195691202872\n",
      "Novelty: 0.9984584266355963\n"
     ]
    }
   ],
   "source": [
    "def calculate_metrics(top_items, data):\n",
    "    # Coverage: proportion of unique items recommended\n",
    "    recommended_items = top_items['item_id'].unique()\n",
    "    total_items = data['item_id'].unique()\n",
    "    coverage_score = len(recommended_items) / len(total_items)\n",
    "    \n",
    "    # Novelty: Based on item popularity (inverse)\n",
    "    item_popularity = data.groupby('item_id').size()\n",
    "    item_popularity = item_popularity[item_popularity > 0]\n",
    "    item_popularity = 1 - item_popularity / item_popularity.sum()  # Normalize\n",
    "    novelty_score = top_items['item_id'].map(item_popularity).mean()\n",
    "\n",
    "    return coverage_score, novelty_score\n",
    "\n",
    "# Calculate metrics for the recommendations\n",
    "coverage_score, novelty_score = calculate_metrics(df_test.iloc[:, :2], df_train.iloc[:, :3])\n",
    "# Print out the results\n",
    "print(f'Coverage: {coverage_score}')\n",
    "print(f'Novelty: {novelty_score}')"
   ]
  },
  {
   "cell_type": "code",
   "execution_count": 11,
   "id": "24edad59",
   "metadata": {},
   "outputs": [
    {
     "name": "stdout",
     "output_type": "stream",
     "text": [
      "0.9168812846621082\n"
     ]
    }
   ],
   "source": [
    "from src.models.baseline import baseline_model\n",
    "\n",
    "result = baseline_model(dataframes=dfs, n=10)\n",
    "group = result.groupby('user_id').size().to_list()\n",
    "\n",
    "print(evaluation(result['rating'], result['est_rating'], group))\n",
    "del group"
   ]
  },
  {
   "cell_type": "code",
   "execution_count": 12,
   "id": "032635c6",
   "metadata": {},
   "outputs": [
    {
     "name": "stdout",
     "output_type": "stream",
     "text": [
      "0.9478088569953991\n"
     ]
    }
   ],
   "source": [
    "user_item_features = feature_engineering(dataframes={\n",
    "    'user': dfs['user'], 'item': dfs['item'], 'data': dfs['data']\n",
    "    })\n",
    "\n",
    "df_baseline = build_rank_input(ratings=result.drop(columns=['est_rating']), features=user_item_features)\n",
    "\n",
    "preds = clf.predict(df_baseline['X'])\n",
    "print(evaluation(df_baseline['y'], preds, df_baseline['group']))"
   ]
  }
 ],
 "metadata": {
  "kernelspec": {
   "display_name": ".venv",
   "language": "python",
   "name": "python3"
  },
  "language_info": {
   "codemirror_mode": {
    "name": "ipython",
    "version": 3
   },
   "file_extension": ".py",
   "mimetype": "text/x-python",
   "name": "python",
   "nbconvert_exporter": "python",
   "pygments_lexer": "ipython3",
   "version": "3.11.9"
  }
 },
 "nbformat": 4,
 "nbformat_minor": 5
}

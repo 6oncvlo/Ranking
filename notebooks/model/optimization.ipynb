{
 "cells": [
  {
   "cell_type": "code",
   "execution_count": 1,
   "id": "6fa35c35",
   "metadata": {},
   "outputs": [],
   "source": [
    "import sys\n",
    "import os\n",
    "\n",
    "sys.path.append(os.path.abspath('..'))\n",
    "\n",
    "import yaml\n",
    "import pandas as pd\n",
    "import optuna\n",
    "\n",
    "from src.data.load import load_data\n",
    "from src.data.prepare import prepare_data\n",
    "from src.models.cv_iterator import leave_last_k\n",
    "from src.data.features import feature_engineering\n",
    "from src.models.retrieval import candidate_generation\n",
    "from src.data.utils import build_rank_input\n",
    "from src.models.tuner import BayesianSearch\n",
    "from src.models.evaluator import evaluation"
   ]
  },
  {
   "cell_type": "code",
   "execution_count": 2,
   "id": "0cbdb26b",
   "metadata": {},
   "outputs": [],
   "source": [
    "# read config\n",
    "with open('config.yml', 'r') as file:\n",
    "    config=yaml.load(file, Loader= yaml.SafeLoader)\n",
    "del file"
   ]
  },
  {
   "cell_type": "code",
   "execution_count": 3,
   "id": "de3ceb8d",
   "metadata": {},
   "outputs": [],
   "source": [
    "# load and prepare data\n",
    "dfs = load_data(config=config['data_loader'])\n",
    "dfs = prepare_data(dataframes=dfs)"
   ]
  },
  {
   "cell_type": "code",
   "execution_count": 4,
   "id": "bbe7e5ce",
   "metadata": {},
   "outputs": [],
   "source": [
    "# train-test split\n",
    "df_train, df_test = leave_last_k(df=dfs['data'], config=config['optimization'])\n",
    "df_train, df_valid = leave_last_k(df=df_train, config=config['optimization'])"
   ]
  },
  {
   "cell_type": "code",
   "execution_count": 5,
   "id": "7335e682",
   "metadata": {},
   "outputs": [],
   "source": [
    "user_item_features = feature_engineering(\n",
    "    dataframes={'user': dfs['user'], 'item': dfs['item'], 'data': df_train}\n",
    "    )"
   ]
  },
  {
   "cell_type": "code",
   "execution_count": 6,
   "id": "442d5f43",
   "metadata": {},
   "outputs": [],
   "source": [
    "candidates = candidate_generation(df_train, config['optimization']['retrieval'])\n",
    "df_train = pd.concat([df_train.iloc[:,:3], candidates['positive'], candidates['negative']], ignore_index=True)\n",
    "\n",
    "del candidates\n",
    "\n",
    "df_train, df_valid = [\n",
    "    build_rank_input(ratings=df.iloc[:,:3], features=user_item_features) for df in (df_train, df_valid)\n",
    "    ]"
   ]
  },
  {
   "cell_type": "code",
   "execution_count": 7,
   "id": "bc2fdc26",
   "metadata": {},
   "outputs": [
    {
     "name": "stderr",
     "output_type": "stream",
     "text": [
      "[I 2025-04-25 01:44:54,620] A new study created in memory with name: no-name-89e511cd-9744-4c6b-86db-d0a8f5e0aba5\n",
      "[I 2025-04-25 01:45:06,447] Trial 0 finished with value: 0.9473689721534267 and parameters: {'learning_rate': 0.47234361013252607, 'gamma': 2.5753980910000793, 'max_depth': 14, 'subsample': 0.9050776746766871, 'n_estimators': 361}. Best is trial 0 with value: 0.9473689721534267.\n",
      "[I 2025-04-25 01:45:10,460] Trial 1 finished with value: 0.94611201465642 and parameters: {'learning_rate': 0.42655451447787873, 'gamma': 9.195883644222231, 'max_depth': 8, 'subsample': 0.8245597782520198, 'n_estimators': 113}. Best is trial 0 with value: 0.9473689721534267.\n",
      "[I 2025-04-25 01:45:14,554] Trial 2 finished with value: 0.9470472884227 and parameters: {'learning_rate': 0.1673580931051493, 'gamma': 7.122446075365274, 'max_depth': 14, 'subsample': 0.942871097166452, 'n_estimators': 107}. Best is trial 0 with value: 0.9473689721534267.\n",
      "[I 2025-04-25 01:45:23,623] Trial 3 finished with value: 0.9473184184930326 and parameters: {'learning_rate': 0.4407857102458208, 'gamma': 3.5346343521797863, 'max_depth': 8, 'subsample': 0.8761618040271122, 'n_estimators': 307}. Best is trial 0 with value: 0.9473689721534267.\n",
      "[I 2025-04-25 01:45:34,187] Trial 4 finished with value: 0.9472242751654003 and parameters: {'learning_rate': 0.1603432717878773, 'gamma': 7.77715082829266, 'max_depth': 5, 'subsample': 0.5954173024874229, 'n_estimators': 377}. Best is trial 0 with value: 0.9473689721534267.\n",
      "[I 2025-04-25 01:45:43,036] Trial 5 finished with value: 0.9478262271487411 and parameters: {'learning_rate': 0.22924046153343317, 'gamma': 1.8304348086020672, 'max_depth': 4, 'subsample': 0.7096987995728707, 'n_estimators': 263}. Best is trial 5 with value: 0.9478262271487411.\n",
      "[I 2025-04-25 01:45:52,977] Trial 6 finished with value: 0.9468381526374028 and parameters: {'learning_rate': 0.08351272550520826, 'gamma': 7.272299984066114, 'max_depth': 7, 'subsample': 0.535237351738847, 'n_estimators': 303}. Best is trial 5 with value: 0.9478262271487411.\n",
      "[I 2025-04-25 01:45:56,907] Trial 7 finished with value: 0.9423108376386987 and parameters: {'learning_rate': 0.00639850082965168, 'gamma': 7.9382870573706175, 'max_depth': 10, 'subsample': 0.5338966333931462, 'n_estimators': 74}. Best is trial 5 with value: 0.9478262271487411.\n",
      "[I 2025-04-25 01:46:08,080] Trial 8 finished with value: 0.9475682853616011 and parameters: {'learning_rate': 0.3060382398732111, 'gamma': 4.2230726850674145, 'max_depth': 5, 'subsample': 0.8395683710891897, 'n_estimators': 372}. Best is trial 5 with value: 0.9478262271487411.\n",
      "[I 2025-04-25 01:46:21,342] Trial 9 finished with value: 0.9467004822907326 and parameters: {'learning_rate': 0.009496324366697437, 'gamma': 9.644116264923525, 'max_depth': 4, 'subsample': 0.6016300468685967, 'n_estimators': 373}. Best is trial 5 with value: 0.9478262271487411.\n",
      "[I 2025-04-25 01:46:30,603] Trial 10 finished with value: 0.9433893187475183 and parameters: {'learning_rate': 0.3197914293580187, 'gamma': 0.3316572373985627, 'max_depth': 11, 'subsample': 0.7011310194890757, 'n_estimators': 182}. Best is trial 5 with value: 0.9478262271487411.\n",
      "[I 2025-04-25 01:46:38,477] Trial 11 finished with value: 0.9475281395325732 and parameters: {'learning_rate': 0.2972716122764062, 'gamma': 4.5682317319385035, 'max_depth': 3, 'subsample': 0.742374344286154, 'n_estimators': 232}. Best is trial 5 with value: 0.9478262271487411.\n",
      "[I 2025-04-25 01:46:48,377] Trial 12 finished with value: 0.9471447901768635 and parameters: {'learning_rate': 0.22959772288497377, 'gamma': 1.558249807983953, 'max_depth': 6, 'subsample': 0.7976526860293647, 'n_estimators': 250}. Best is trial 5 with value: 0.9478262271487411.\n",
      "[I 2025-04-25 01:46:58,529] Trial 13 finished with value: 0.9472219669637156 and parameters: {'learning_rate': 0.35150281735478534, 'gamma': 5.580596160334865, 'max_depth': 3, 'subsample': 0.9940928078444526, 'n_estimators': 300}. Best is trial 5 with value: 0.9478262271487411.\n",
      "[I 2025-04-25 01:47:05,640] Trial 14 finished with value: 0.9480281008290605 and parameters: {'learning_rate': 0.2177997516603012, 'gamma': 1.7910750002809737, 'max_depth': 5, 'subsample': 0.6965182991991082, 'n_estimators': 179}. Best is trial 14 with value: 0.9480281008290605.\n",
      "[I 2025-04-25 01:47:13,333] Trial 15 finished with value: 0.9445367027931837 and parameters: {'learning_rate': 0.21027463151510342, 'gamma': 0.02061058691175166, 'max_depth': 6, 'subsample': 0.6749388066882784, 'n_estimators': 175}. Best is trial 14 with value: 0.9480281008290605.\n",
      "[I 2025-04-25 01:47:20,449] Trial 16 finished with value: 0.9470709194640073 and parameters: {'learning_rate': 0.12360103744686102, 'gamma': 1.839606935425004, 'max_depth': 11, 'subsample': 0.7128781377484931, 'n_estimators': 182}. Best is trial 14 with value: 0.9480281008290605.\n",
      "[I 2025-04-25 01:47:29,172] Trial 17 finished with value: 0.9470235948666362 and parameters: {'learning_rate': 0.2522874550302846, 'gamma': 2.978445589706756, 'max_depth': 4, 'subsample': 0.6416588356681675, 'n_estimators': 274}. Best is trial 14 with value: 0.9480281008290605.\n",
      "[I 2025-04-25 01:47:34,599] Trial 18 finished with value: 0.946517603363223 and parameters: {'learning_rate': 0.390584442279702, 'gamma': 5.772320795374475, 'max_depth': 9, 'subsample': 0.7619280639563484, 'n_estimators': 155}. Best is trial 14 with value: 0.9480281008290605.\n",
      "[I 2025-04-25 01:47:42,480] Trial 19 finished with value: 0.9463619051280162 and parameters: {'learning_rate': 0.2647284409037673, 'gamma': 1.0362490058943146, 'max_depth': 6, 'subsample': 0.6477310310057555, 'n_estimators': 220}. Best is trial 14 with value: 0.9480281008290605.\n"
     ]
    }
   ],
   "source": [
    "# perform bayesian search\n",
    "searcher = BayesianSearch(config['optimization']['hyper_params'], algorithm='XGBRanker')\n",
    "\n",
    "def objective(trial) -> float:\n",
    "    return searcher.fit(df_train, df_valid, trial)\n",
    "\n",
    "study = optuna.create_study(direction='maximize')\n",
    "study.optimize(objective, n_trials=20)"
   ]
  },
  {
   "cell_type": "code",
   "execution_count": 8,
   "id": "a9f0a664",
   "metadata": {},
   "outputs": [
    {
     "name": "stdout",
     "output_type": "stream",
     "text": [
      "Best trial:\n",
      "{'learning_rate': 0.2177997516603012, 'gamma': 1.7910750002809737, 'max_depth': 5, 'subsample': 0.6965182991991082, 'n_estimators': 179}\n"
     ]
    }
   ],
   "source": [
    "print(\"Best trial:\")\n",
    "print(study.best_trial.params)"
   ]
  },
  {
   "cell_type": "code",
   "execution_count": 9,
   "id": "9039a41b",
   "metadata": {},
   "outputs": [],
   "source": [
    "import pandas as pd\n",
    "\n",
    "# use indicator to know the origin\n",
    "df_train = dfs['data'].merge(\n",
    "    df_test\n",
    "    , on=['user_id', 'item_id', 'rating'], how='left'\n",
    "    , indicator=True\n",
    "    )\n",
    "# keep only rows that are present in df1 but not in df2\n",
    "df_train = df_train[df_train['_merge'] == 'left_only'].drop(columns=['_merge'])\n",
    "\n",
    "user_item_features = feature_engineering(\n",
    "    dataframes={'user': dfs['user'], 'item': dfs['item'], 'data': df_train}\n",
    "    )\n",
    "\n",
    "# add negative and positive sampling\n",
    "candidates = candidate_generation(df_train, config['optimization']['retrieval'])\n",
    "df_train_ = pd.concat([df_train.iloc[:,:3], candidates['positive'], candidates['negative']], ignore_index=True)\n",
    "\n",
    "del candidates\n",
    "\n",
    "df_train_, df_test_ = [\n",
    "    build_rank_input(ratings=df.iloc[:,:3], features=user_item_features) for df in (df_train_, df_test)\n",
    "    ]"
   ]
  },
  {
   "cell_type": "code",
   "execution_count": 10,
   "id": "bbc255b0",
   "metadata": {},
   "outputs": [
    {
     "name": "stdout",
     "output_type": "stream",
     "text": [
      "0.9526336036461276\n"
     ]
    }
   ],
   "source": [
    "from sklearn.metrics import ndcg_score\n",
    "from xgboost import XGBRanker\n",
    "import numpy as np\n",
    "\n",
    "clf = XGBRanker(**study.best_trial.params)\n",
    "clf.fit(\n",
    "    df_train_['X'], df_train_['y'].astype(int)\n",
    "    , group=df_train_['group']\n",
    "    , verbose=False\n",
    "    )\n",
    "\n",
    "preds = clf.predict(df_test_['X'])\n",
    "\n",
    "print(evaluation(df_test_['y'], preds, df_test_['group']))"
   ]
  },
  {
   "cell_type": "code",
   "execution_count": 11,
   "id": "c053c1a5",
   "metadata": {},
   "outputs": [
    {
     "name": "stdout",
     "output_type": "stream",
     "text": [
      "Coverage: 0.6463195691202872\n",
      "Novelty: 0.9984584266355963\n"
     ]
    }
   ],
   "source": [
    "def calculate_metrics(top_items, data):\n",
    "    # Coverage: proportion of unique items recommended\n",
    "    recommended_items = top_items['item_id'].unique()\n",
    "    total_items = data['item_id'].unique()\n",
    "    coverage_score = len(recommended_items) / len(total_items)\n",
    "    \n",
    "    # Novelty: Based on item popularity (inverse)\n",
    "    item_popularity = data.groupby('item_id').size()\n",
    "    item_popularity = item_popularity[item_popularity > 0]\n",
    "    item_popularity = 1 - item_popularity / item_popularity.sum()  # Normalize\n",
    "    novelty_score = top_items['item_id'].map(item_popularity).mean()\n",
    "\n",
    "    return coverage_score, novelty_score\n",
    "\n",
    "# Calculate metrics for the recommendations\n",
    "coverage_score, novelty_score = calculate_metrics(df_test.iloc[:, :2], df_train.iloc[:, :3])\n",
    "# Print out the results\n",
    "print(f'Coverage: {coverage_score}')\n",
    "print(f'Novelty: {novelty_score}')"
   ]
  },
  {
   "cell_type": "code",
   "execution_count": 12,
   "id": "24edad59",
   "metadata": {},
   "outputs": [
    {
     "name": "stdout",
     "output_type": "stream",
     "text": [
      "0.9168812846621082\n"
     ]
    }
   ],
   "source": [
    "from src.models.baseline import baseline_model\n",
    "\n",
    "result = baseline_model(dataframes=dfs, n=10)\n",
    "group = result.groupby('user_id').size().to_list()\n",
    "\n",
    "print(evaluation(result['rating'], result['est_rating'], group))\n",
    "del group"
   ]
  },
  {
   "cell_type": "code",
   "execution_count": 13,
   "id": "032635c6",
   "metadata": {},
   "outputs": [
    {
     "name": "stdout",
     "output_type": "stream",
     "text": [
      "0.9495014250481246\n"
     ]
    }
   ],
   "source": [
    "user_item_features = feature_engineering(dataframes={\n",
    "    'user': dfs['user'], 'item': dfs['item'], 'data': dfs['data']\n",
    "    })\n",
    "\n",
    "df_baseline = build_rank_input(ratings=result.drop(columns=['est_rating']), features=user_item_features)\n",
    "\n",
    "preds = clf.predict(df_baseline['X'])\n",
    "print(evaluation(df_baseline['y'], preds, df_baseline['group']))"
   ]
  }
 ],
 "metadata": {
  "kernelspec": {
   "display_name": ".venv",
   "language": "python",
   "name": "python3"
  },
  "language_info": {
   "codemirror_mode": {
    "name": "ipython",
    "version": 3
   },
   "file_extension": ".py",
   "mimetype": "text/x-python",
   "name": "python",
   "nbconvert_exporter": "python",
   "pygments_lexer": "ipython3",
   "version": "3.11.9"
  }
 },
 "nbformat": 4,
 "nbformat_minor": 5
}

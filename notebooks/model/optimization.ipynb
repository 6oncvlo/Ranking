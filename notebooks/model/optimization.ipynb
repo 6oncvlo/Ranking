{
 "cells": [
  {
   "cell_type": "code",
   "execution_count": 1,
   "id": "6fa35c35",
   "metadata": {},
   "outputs": [],
   "source": [
    "import sys\n",
    "import os\n",
    "\n",
    "sys.path.append(os.path.abspath('..\\..'))\n",
    "\n",
    "import yaml\n",
    "import pandas as pd\n",
    "import optuna\n",
    "\n",
    "from src.data.load import load_data\n",
    "from src.data.prepare import prepare_data\n",
    "from src.models.cv_iterator import leave_last_k\n",
    "from src.data.features import feature_engineering\n",
    "from src.models.retrieval import candidate_generation\n",
    "from src.data.utils import build_rank_input\n",
    "from src.models.tuner import BayesianSearch\n",
    "from src.models.evaluator import evaluation"
   ]
  },
  {
   "cell_type": "code",
   "execution_count": 2,
   "id": "0cbdb26b",
   "metadata": {},
   "outputs": [],
   "source": [
    "# read config\n",
    "with open('..\\config.yml', 'r') as file:\n",
    "    config=yaml.load(file, Loader= yaml.SafeLoader)\n",
    "del file"
   ]
  },
  {
   "cell_type": "code",
   "execution_count": 3,
   "id": "de3ceb8d",
   "metadata": {},
   "outputs": [],
   "source": [
    "# load and prepare data\n",
    "dfs = load_data(config=config['data_loader'])\n",
    "dfs = prepare_data(dataframes=dfs)"
   ]
  },
  {
   "cell_type": "code",
   "execution_count": 4,
   "id": "bbe7e5ce",
   "metadata": {},
   "outputs": [],
   "source": [
    "# train-test split\n",
    "df_train, df_test = leave_last_k(df=dfs['data'], config=config['optimization'])\n",
    "df_train, df_valid = leave_last_k(df=df_train, config=config['optimization'])"
   ]
  },
  {
   "cell_type": "code",
   "execution_count": 5,
   "id": "7335e682",
   "metadata": {},
   "outputs": [],
   "source": [
    "user_item_features = feature_engineering(\n",
    "    dataframes={'user': dfs['user'], 'item': dfs['item'], 'data': df_train}\n",
    "    )"
   ]
  },
  {
   "cell_type": "code",
   "execution_count": 6,
   "id": "442d5f43",
   "metadata": {},
   "outputs": [],
   "source": [
    "candidates = candidate_generation(df_train, config['optimization']['retrieval'])\n",
    "df_train = pd.concat([df_train.iloc[:,:3], candidates['positive'], candidates['negative']], ignore_index=True)\n",
    "\n",
    "df_train, df_valid = [\n",
    "    build_rank_input(ratings=df.iloc[:,:3], features=user_item_features)\n",
    "    for df in (df_train, df_valid)\n",
    "    ]\n",
    "\n",
    "del candidates, user_item_features"
   ]
  },
  {
   "cell_type": "code",
   "execution_count": 7,
   "id": "bc2fdc26",
   "metadata": {},
   "outputs": [
    {
     "name": "stderr",
     "output_type": "stream",
     "text": [
      "[I 2025-04-25 02:16:54,327] A new study created in memory with name: no-name-26288621-5810-419d-87e3-31fb8e5a6dfe\n",
      "[I 2025-04-25 02:17:03,301] Trial 0 finished with value: 0.946720399682213 and parameters: {'learning_rate': 0.4364994106497746, 'gamma': 3.7687755684332016, 'max_depth': 9, 'subsample': 0.9127800042664123, 'n_estimators': 247}. Best is trial 0 with value: 0.946720399682213.\n",
      "[I 2025-04-25 02:17:08,240] Trial 1 finished with value: 0.9470638710047398 and parameters: {'learning_rate': 0.2989604110817611, 'gamma': 8.171562542543345, 'max_depth': 8, 'subsample': 0.5281792274643173, 'n_estimators': 131}. Best is trial 1 with value: 0.9470638710047398.\n",
      "[I 2025-04-25 02:17:16,103] Trial 2 finished with value: 0.9461459865065652 and parameters: {'learning_rate': 0.3125800600039969, 'gamma': 0.6714876872164344, 'max_depth': 3, 'subsample': 0.6996517454107475, 'n_estimators': 211}. Best is trial 1 with value: 0.9470638710047398.\n",
      "[I 2025-04-25 02:17:19,235] Trial 3 finished with value: 0.9463217658932727 and parameters: {'learning_rate': 0.3780566555387277, 'gamma': 8.999271632615294, 'max_depth': 4, 'subsample': 0.9441198402436519, 'n_estimators': 63}. Best is trial 1 with value: 0.9470638710047398.\n",
      "[I 2025-04-25 02:17:28,030] Trial 4 finished with value: 0.9476076946017808 and parameters: {'learning_rate': 0.0805095761905295, 'gamma': 1.4000580076289215, 'max_depth': 11, 'subsample': 0.5266210708816705, 'n_estimators': 242}. Best is trial 4 with value: 0.9476076946017808.\n",
      "[I 2025-04-25 02:17:40,710] Trial 5 finished with value: 0.9465080050496661 and parameters: {'learning_rate': 0.13240085649397612, 'gamma': 2.7020041400225914, 'max_depth': 7, 'subsample': 0.9636260676593453, 'n_estimators': 380}. Best is trial 4 with value: 0.9476076946017808.\n",
      "[I 2025-04-25 02:17:52,533] Trial 6 finished with value: 0.9472756899386198 and parameters: {'learning_rate': 0.08221575125052179, 'gamma': 2.727899446829799, 'max_depth': 3, 'subsample': 0.5005840437596061, 'n_estimators': 327}. Best is trial 4 with value: 0.9476076946017808.\n",
      "[I 2025-04-25 02:17:58,280] Trial 7 finished with value: 0.947630501314059 and parameters: {'learning_rate': 0.16487403299921377, 'gamma': 2.2340355210569216, 'max_depth': 5, 'subsample': 0.6956021206309921, 'n_estimators': 159}. Best is trial 7 with value: 0.947630501314059.\n",
      "[I 2025-04-25 02:18:04,140] Trial 8 finished with value: 0.9451760766084234 and parameters: {'learning_rate': 0.2390873636687137, 'gamma': 0.22337202136252898, 'max_depth': 7, 'subsample': 0.7180823184131684, 'n_estimators': 125}. Best is trial 7 with value: 0.947630501314059.\n",
      "[I 2025-04-25 02:18:16,143] Trial 9 finished with value: 0.9469330271362624 and parameters: {'learning_rate': 0.2079978102883897, 'gamma': 0.899654073313173, 'max_depth': 11, 'subsample': 0.9645276141269999, 'n_estimators': 393}. Best is trial 7 with value: 0.947630501314059.\n",
      "[I 2025-04-25 02:18:22,497] Trial 10 finished with value: 0.9460795215164799 and parameters: {'learning_rate': 0.016121474263984914, 'gamma': 6.244032296717773, 'max_depth': 15, 'subsample': 0.8361280401400526, 'n_estimators': 167}. Best is trial 7 with value: 0.947630501314059.\n",
      "[I 2025-04-25 02:18:30,811] Trial 11 finished with value: 0.9467722231076868 and parameters: {'learning_rate': 0.15491492752433028, 'gamma': 5.128196289840715, 'max_depth': 13, 'subsample': 0.6157747485736336, 'n_estimators': 267}. Best is trial 7 with value: 0.947630501314059.\n",
      "[I 2025-04-25 02:18:39,641] Trial 12 finished with value: 0.9434339099755139 and parameters: {'learning_rate': 0.00828644147295779, 'gamma': 2.0705603299589184, 'max_depth': 11, 'subsample': 0.6126211854298325, 'n_estimators': 201}. Best is trial 7 with value: 0.947630501314059.\n",
      "[I 2025-04-25 02:18:49,125] Trial 13 finished with value: 0.9474641950104608 and parameters: {'learning_rate': 0.09798274206219304, 'gamma': 4.0046552173601535, 'max_depth': 5, 'subsample': 0.8138506700193074, 'n_estimators': 284}. Best is trial 7 with value: 0.947630501314059.\n",
      "[I 2025-04-25 02:18:53,133] Trial 14 finished with value: 0.9453260921572054 and parameters: {'learning_rate': 0.17995102827558038, 'gamma': 1.725416631271433, 'max_depth': 11, 'subsample': 0.6176730448312009, 'n_estimators': 85}. Best is trial 7 with value: 0.947630501314059.\n",
      "[I 2025-04-25 02:18:59,173] Trial 15 finished with value: 0.9469793224334201 and parameters: {'learning_rate': 0.0699551083637692, 'gamma': 5.909738764890065, 'max_depth': 6, 'subsample': 0.5675261518143998, 'n_estimators': 169}. Best is trial 7 with value: 0.947630501314059.\n",
      "[I 2025-04-25 02:19:08,508] Trial 16 finished with value: 0.9479343363370181 and parameters: {'learning_rate': 0.27293855079920326, 'gamma': 3.710723470890753, 'max_depth': 10, 'subsample': 0.6712667005345838, 'n_estimators': 294}. Best is trial 16 with value: 0.9479343363370181.\n",
      "[I 2025-04-25 02:19:21,125] Trial 17 finished with value: 0.9473190449408385 and parameters: {'learning_rate': 0.28373240915463066, 'gamma': 3.8799231172647977, 'max_depth': 9, 'subsample': 0.6795060225027287, 'n_estimators': 322}. Best is trial 16 with value: 0.9479343363370181.\n",
      "[I 2025-04-25 02:19:34,688] Trial 18 finished with value: 0.9467185467091012 and parameters: {'learning_rate': 0.4990426033492417, 'gamma': 6.7286605591677375, 'max_depth': 9, 'subsample': 0.7710870782694523, 'n_estimators': 311}. Best is trial 16 with value: 0.9479343363370181.\n",
      "[I 2025-04-25 02:19:42,498] Trial 19 finished with value: 0.9468240359525668 and parameters: {'learning_rate': 0.35855147638597756, 'gamma': 2.9842742770180406, 'max_depth': 13, 'subsample': 0.7689030901652161, 'n_estimators': 167}. Best is trial 16 with value: 0.9479343363370181.\n"
     ]
    },
    {
     "name": "stdout",
     "output_type": "stream",
     "text": [
      "Best trial:\n",
      " {'learning_rate': 0.27293855079920326, 'gamma': 3.710723470890753, 'max_depth': 10, 'subsample': 0.6712667005345838, 'n_estimators': 294}\n"
     ]
    }
   ],
   "source": [
    "# perform bayesian search\n",
    "searcher = BayesianSearch(config['optimization']['hyper_params'], algorithm='XGBRanker')\n",
    "\n",
    "def objective(trial) -> float:\n",
    "    return searcher.fit(df_train, df_valid, trial)\n",
    "\n",
    "study = optuna.create_study(direction='maximize')\n",
    "study.optimize(objective, n_trials=20)\n",
    "\n",
    "print(\"Best trial:\\n\", study.best_trial.params)\n",
    "del searcher"
   ]
  },
  {
   "cell_type": "code",
   "execution_count": 9,
   "id": "9039a41b",
   "metadata": {},
   "outputs": [],
   "source": [
    "# use indicator to know the origin\n",
    "df_train = dfs['data'].merge(\n",
    "    df_test\n",
    "    , on=['user_id', 'item_id', 'rating'], how='left'\n",
    "    , indicator=True\n",
    "    )\n",
    "# keep only rows that are present in df1 but not in df2\n",
    "df_train = df_train[df_train['_merge'] == 'left_only'].drop(columns=['_merge'])\n",
    "\n",
    "user_item_features = feature_engineering(\n",
    "    dataframes={'user': dfs['user'], 'item': dfs['item'], 'data': df_train}\n",
    "    )\n",
    "\n",
    "# add negative and positive sampling\n",
    "candidates = candidate_generation(df_train, config['optimization']['retrieval'])\n",
    "df_train_ = pd.concat([df_train.iloc[:,:3], candidates['positive'], candidates['negative']], ignore_index=True)\n",
    "\n",
    "df_train_, df_test_ = [\n",
    "    build_rank_input(ratings=df.iloc[:,:3], features=user_item_features) for df in (df_train_, df_test)\n",
    "    ]\n",
    "\n",
    "del candidates, user_item_features"
   ]
  },
  {
   "cell_type": "code",
   "execution_count": 10,
   "id": "bbc255b0",
   "metadata": {},
   "outputs": [
    {
     "name": "stdout",
     "output_type": "stream",
     "text": [
      "0.9527609268603281\n"
     ]
    }
   ],
   "source": [
    "from xgboost import XGBRanker\n",
    "\n",
    "clf = XGBRanker(**study.best_trial.params)\n",
    "clf.fit(\n",
    "    df_train_['X'], df_train_['y'].astype(int)\n",
    "    , group=df_train_['group']\n",
    "    , verbose=False\n",
    "    )\n",
    "\n",
    "preds = clf.predict(df_test_['X'])\n",
    "\n",
    "print(evaluation(df_test_['y'], preds, df_test_['group']))"
   ]
  },
  {
   "cell_type": "code",
   "execution_count": 11,
   "id": "c053c1a5",
   "metadata": {},
   "outputs": [
    {
     "name": "stdout",
     "output_type": "stream",
     "text": [
      "Coverage: 0.6463195691202872\n",
      "Novelty: 0.9984584266355963\n"
     ]
    }
   ],
   "source": [
    "def calculate_metrics(top_items, data):\n",
    "    # Coverage: proportion of unique items recommended\n",
    "    recommended_items = top_items['item_id'].unique()\n",
    "    total_items = data['item_id'].unique()\n",
    "    coverage_score = len(recommended_items) / len(total_items)\n",
    "    \n",
    "    # Novelty: Based on item popularity (inverse)\n",
    "    item_popularity = data.groupby('item_id').size()\n",
    "    item_popularity = item_popularity[item_popularity > 0]\n",
    "    item_popularity = 1 - item_popularity / item_popularity.sum()  # Normalize\n",
    "    novelty_score = top_items['item_id'].map(item_popularity).mean()\n",
    "\n",
    "    return coverage_score, novelty_score\n",
    "\n",
    "# Calculate metrics for the recommendations\n",
    "coverage_score, novelty_score = calculate_metrics(df_test.iloc[:, :2], df_train.iloc[:, :3])\n",
    "# Print out the results\n",
    "print(f'Coverage: {coverage_score}')\n",
    "print(f'Novelty: {novelty_score}')"
   ]
  },
  {
   "cell_type": "code",
   "execution_count": 12,
   "id": "24edad59",
   "metadata": {},
   "outputs": [
    {
     "name": "stdout",
     "output_type": "stream",
     "text": [
      "0.9168812846621082\n"
     ]
    }
   ],
   "source": [
    "from src.models.baseline import baseline_model\n",
    "\n",
    "result = baseline_model(dataframes=dfs, n=10)\n",
    "group = result.groupby('user_id').size().to_list()\n",
    "\n",
    "print(evaluation(result['rating'], result['est_rating'], group))\n",
    "del group"
   ]
  },
  {
   "cell_type": "code",
   "execution_count": 13,
   "id": "032635c6",
   "metadata": {},
   "outputs": [
    {
     "name": "stdout",
     "output_type": "stream",
     "text": [
      "0.9472011106070803\n"
     ]
    }
   ],
   "source": [
    "user_item_features = feature_engineering(dataframes={\n",
    "    'user': dfs['user'], 'item': dfs['item'], 'data': dfs['data']\n",
    "    })\n",
    "\n",
    "df_baseline = build_rank_input(ratings=result.drop(columns=['est_rating']), features=user_item_features)\n",
    "\n",
    "preds = clf.predict(df_baseline['X'])\n",
    "print(evaluation(df_baseline['y'], preds, df_baseline['group']))"
   ]
  }
 ],
 "metadata": {
  "kernelspec": {
   "display_name": ".venv",
   "language": "python",
   "name": "python3"
  },
  "language_info": {
   "codemirror_mode": {
    "name": "ipython",
    "version": 3
   },
   "file_extension": ".py",
   "mimetype": "text/x-python",
   "name": "python",
   "nbconvert_exporter": "python",
   "pygments_lexer": "ipython3",
   "version": "3.11.9"
  }
 },
 "nbformat": 4,
 "nbformat_minor": 5
}

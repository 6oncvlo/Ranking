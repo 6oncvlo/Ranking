{
 "cells": [
  {
   "cell_type": "code",
   "execution_count": 1,
   "id": "6fa35c35",
   "metadata": {},
   "outputs": [
    {
     "name": "stderr",
     "output_type": "stream",
     "text": [
      "c:\\Users\\gonpr\\ML_Projects\\Ranking\\.venv\\Lib\\site-packages\\tqdm\\auto.py:21: TqdmWarning: IProgress not found. Please update jupyter and ipywidgets. See https://ipywidgets.readthedocs.io/en/stable/user_install.html\n",
      "  from .autonotebook import tqdm as notebook_tqdm\n"
     ]
    }
   ],
   "source": [
    "import sys\n",
    "import os\n",
    "\n",
    "sys.path.append(os.path.abspath('..'))\n",
    "\n",
    "import yaml\n",
    "import optuna\n",
    "\n",
    "from src.data.load import load_data\n",
    "from src.data.prepare import prepare_data\n",
    "from src.models.cv_iterator import leave_last_k\n",
    "from src.data.features import feature_engineering\n",
    "from src.data.utils import build_rank_input\n",
    "from src.models.tuner import BayesianSearch"
   ]
  },
  {
   "cell_type": "code",
   "execution_count": 2,
   "id": "0cbdb26b",
   "metadata": {},
   "outputs": [],
   "source": [
    "# read config\n",
    "with open('../config.yml', 'r') as file:\n",
    "    config=yaml.load(file, Loader= yaml.SafeLoader)\n",
    "del file"
   ]
  },
  {
   "cell_type": "code",
   "execution_count": 3,
   "id": "de3ceb8d",
   "metadata": {},
   "outputs": [],
   "source": [
    "# load and prepare data\n",
    "dfs = load_data(config=config['data_loader'])\n",
    "dfs = prepare_data(dataframes=dfs)"
   ]
  },
  {
   "cell_type": "code",
   "execution_count": 4,
   "id": "bbe7e5ce",
   "metadata": {},
   "outputs": [],
   "source": [
    "# train-test split\n",
    "df_train, df_test = leave_last_k(df=dfs['data'], config=config['optimization'])\n",
    "df_train, df_valid = leave_last_k(df=df_train, config=config['optimization'])"
   ]
  },
  {
   "cell_type": "code",
   "execution_count": 5,
   "id": "7335e682",
   "metadata": {},
   "outputs": [],
   "source": [
    "user_item_features = feature_engineering(\n",
    "    dataframes={'user': dfs['user'], 'item': dfs['item'], 'data': df_train}\n",
    "    )"
   ]
  },
  {
   "cell_type": "code",
   "execution_count": 6,
   "id": "442d5f43",
   "metadata": {},
   "outputs": [],
   "source": [
    "import pandas as pd\n",
    "from src.models.candidate import candidate_generation\n",
    "\n",
    "df_train_neg = candidate_generation(df_train, n=20+3*3+3*3, positive_sampling=False)\n",
    "df_test_neg = df_train_neg.groupby(by=['user_id']).sample(n=3*3)\n",
    "df_train_neg = df_train_neg.drop(df_test_neg.index)\n",
    "df_valid_neg = df_train_neg.groupby(by=['user_id']).sample(n=3*3)\n",
    "df_train_neg = df_train_neg.drop(df_valid_neg.index)\n",
    "\n",
    "df_train = pd.concat([df_train.iloc[:,:3], df_train_neg], ignore_index=True)\n",
    "df_valid = pd.concat([df_valid.iloc[:,:3], df_valid_neg], ignore_index=True)\n",
    "df_test = pd.concat([df_test.iloc[:,:3], df_test_neg], ignore_index=True)\n",
    "del df_train_neg, df_valid_neg, df_test_neg\n",
    "\n",
    "df_train, df_valid = [\n",
    "    build_rank_input(ratings=df, features=user_item_features) for df in (df_train, df_valid)\n",
    "    ]"
   ]
  },
  {
   "cell_type": "code",
   "execution_count": 7,
   "id": "bc2fdc26",
   "metadata": {},
   "outputs": [
    {
     "name": "stderr",
     "output_type": "stream",
     "text": [
      "[I 2025-04-22 00:51:33,810] A new study created in memory with name: no-name-9536dc90-9b16-4844-836b-0446b4e6ddfa\n",
      "[I 2025-04-22 00:51:35,238] Trial 0 finished with value: 0.9767882812442432 and parameters: {'learning_rate': 0.23925075205124977, 'gamma': 1.298644718662838, 'max_depth': 6, 'subsample': 0.9783715044617085, 'n_estimators': 85}. Best is trial 0 with value: 0.9767882812442432.\n",
      "[I 2025-04-22 00:51:37,485] Trial 1 finished with value: 0.9767389830641775 and parameters: {'learning_rate': 0.27165602202944894, 'gamma': 1.4477235320626987, 'max_depth': 5, 'subsample': 0.7825631300226293, 'n_estimators': 186}. Best is trial 0 with value: 0.9767882812442432.\n",
      "[I 2025-04-22 00:51:39,161] Trial 2 finished with value: 0.9766767452584386 and parameters: {'learning_rate': 0.16940251532502107, 'gamma': 3.8602274868054427, 'max_depth': 5, 'subsample': 0.8838961601313569, 'n_estimators': 111}. Best is trial 0 with value: 0.9767882812442432.\n",
      "[I 2025-04-22 00:51:43,058] Trial 3 finished with value: 0.9757773739887636 and parameters: {'learning_rate': 0.24982480282999914, 'gamma': 0.2974522528186163, 'max_depth': 8, 'subsample': 0.7120172346172757, 'n_estimators': 261}. Best is trial 0 with value: 0.9767882812442432.\n",
      "[I 2025-04-22 00:51:45,688] Trial 4 finished with value: 0.9766226098928988 and parameters: {'learning_rate': 0.0395561776601979, 'gamma': 1.7201052684978069, 'max_depth': 7, 'subsample': 0.7645221521019392, 'n_estimators': 163}. Best is trial 0 with value: 0.9767882812442432.\n",
      "[I 2025-04-22 00:51:47,524] Trial 5 finished with value: 0.9767565917394062 and parameters: {'learning_rate': 0.2363452744648544, 'gamma': 3.2790325819384125, 'max_depth': 9, 'subsample': 0.5519437456846887, 'n_estimators': 140}. Best is trial 0 with value: 0.9767882812442432.\n",
      "[I 2025-04-22 00:51:51,696] Trial 6 finished with value: 0.9771810709673643 and parameters: {'learning_rate': 0.09136200328468076, 'gamma': 0.5265153642974785, 'max_depth': 3, 'subsample': 0.6486042367461099, 'n_estimators': 214}. Best is trial 6 with value: 0.9771810709673643.\n",
      "[I 2025-04-22 00:51:54,962] Trial 7 finished with value: 0.9764742328214242 and parameters: {'learning_rate': 0.19320491693168454, 'gamma': 1.3831601788578252, 'max_depth': 9, 'subsample': 0.7833733026904806, 'n_estimators': 235}. Best is trial 6 with value: 0.9771810709673643.\n",
      "[I 2025-04-22 00:51:56,707] Trial 8 finished with value: 0.9769243940454322 and parameters: {'learning_rate': 0.29692685594738694, 'gamma': 0.1721997768175315, 'max_depth': 3, 'subsample': 0.8239032784149678, 'n_estimators': 103}. Best is trial 6 with value: 0.9771810709673643.\n",
      "[I 2025-04-22 00:51:58,921] Trial 9 finished with value: 0.9769917710486005 and parameters: {'learning_rate': 0.1061595078430052, 'gamma': 3.023737039095807, 'max_depth': 3, 'subsample': 0.9855500135888587, 'n_estimators': 184}. Best is trial 6 with value: 0.9771810709673643.\n",
      "[I 2025-04-22 00:52:02,061] Trial 10 finished with value: 0.9773507043600247 and parameters: {'learning_rate': 0.09166913088710321, 'gamma': 4.72646187820386, 'max_depth': 4, 'subsample': 0.5708465919484484, 'n_estimators': 299}. Best is trial 10 with value: 0.9773507043600247.\n",
      "[I 2025-04-22 00:52:05,776] Trial 11 finished with value: 0.9767776144657047 and parameters: {'learning_rate': 0.09172064699257959, 'gamma': 4.542141917971756, 'max_depth': 4, 'subsample': 0.5821132169114501, 'n_estimators': 279}. Best is trial 10 with value: 0.9773507043600247.\n",
      "[I 2025-04-22 00:52:10,929] Trial 12 finished with value: 0.9766643262123518 and parameters: {'learning_rate': 0.01772407978589119, 'gamma': 4.691498667246534, 'max_depth': 4, 'subsample': 0.6364738063737536, 'n_estimators': 299}. Best is trial 10 with value: 0.9773507043600247.\n",
      "[I 2025-04-22 00:52:14,839] Trial 13 finished with value: 0.9772089793630679 and parameters: {'learning_rate': 0.10534386822257254, 'gamma': 2.3667582058386722, 'max_depth': 3, 'subsample': 0.5108032099757545, 'n_estimators': 224}. Best is trial 10 with value: 0.9773507043600247.\n",
      "[I 2025-04-22 00:52:18,957] Trial 14 finished with value: 0.9770197542860813 and parameters: {'learning_rate': 0.1288199553709669, 'gamma': 2.3622238253833343, 'max_depth': 5, 'subsample': 0.5170282546692864, 'n_estimators': 223}. Best is trial 10 with value: 0.9773507043600247.\n",
      "[I 2025-04-22 00:52:23,987] Trial 15 finished with value: 0.9769801807829619 and parameters: {'learning_rate': 0.061442658284164786, 'gamma': 2.406137448076051, 'max_depth': 4, 'subsample': 0.501324085585399, 'n_estimators': 252}. Best is trial 10 with value: 0.9773507043600247.\n",
      "[I 2025-04-22 00:52:25,678] Trial 16 finished with value: 0.9762728757199088 and parameters: {'learning_rate': 0.13921895058118688, 'gamma': 3.542220559678405, 'max_depth': 6, 'subsample': 0.6269566769625596, 'n_estimators': 52}. Best is trial 10 with value: 0.9773507043600247.\n",
      "[I 2025-04-22 00:52:31,675] Trial 17 finished with value: 0.9768419509789757 and parameters: {'learning_rate': 0.18717669463609155, 'gamma': 4.013780417191625, 'max_depth': 10, 'subsample': 0.5726042136562892, 'n_estimators': 295}. Best is trial 10 with value: 0.9773507043600247.\n",
      "[I 2025-04-22 00:52:38,064] Trial 18 finished with value: 0.9770336846375259 and parameters: {'learning_rate': 0.0620429929346358, 'gamma': 2.7626623352830624, 'max_depth': 4, 'subsample': 0.702973727567792, 'n_estimators': 262}. Best is trial 10 with value: 0.9773507043600247.\n",
      "[I 2025-04-22 00:52:43,884] Trial 19 finished with value: 0.9768248661258717 and parameters: {'learning_rate': 0.11670640418511927, 'gamma': 1.970912582232439, 'max_depth': 7, 'subsample': 0.6825265605797355, 'n_estimators': 205}. Best is trial 10 with value: 0.9773507043600247.\n"
     ]
    }
   ],
   "source": [
    "# perform bayesian search\n",
    "searcher = BayesianSearch(config['optimization']['hyper_params'], algorithm='XGBRanker')\n",
    "\n",
    "def objective(trial) -> float:\n",
    "    return searcher.fit(df_train, df_valid, trial)\n",
    "\n",
    "study = optuna.create_study(direction='maximize')\n",
    "study.optimize(objective, n_trials=20)"
   ]
  },
  {
   "cell_type": "code",
   "execution_count": 8,
   "id": "a9f0a664",
   "metadata": {},
   "outputs": [
    {
     "name": "stdout",
     "output_type": "stream",
     "text": [
      "Best trial:\n",
      "{'learning_rate': 0.09166913088710321, 'gamma': 4.72646187820386, 'max_depth': 4, 'subsample': 0.5708465919484484, 'n_estimators': 299}\n"
     ]
    }
   ],
   "source": [
    "print(\"Best trial:\")\n",
    "print(study.best_trial.params)"
   ]
  },
  {
   "cell_type": "code",
   "execution_count": 9,
   "id": "9039a41b",
   "metadata": {},
   "outputs": [
    {
     "name": "stderr",
     "output_type": "stream",
     "text": [
      "C:\\Users\\gonpr\\AppData\\Local\\Temp\\ipykernel_26288\\2778080792.py:4: UserWarning: You are merging on int and float columns where the float values are not equal to their int representation.\n",
      "  df_train = dfs['data'].merge(\n"
     ]
    }
   ],
   "source": [
    "import pandas as pd\n",
    "\n",
    "# use indicator to know the origin\n",
    "df_train = dfs['data'].merge(\n",
    "    df_test\n",
    "    , on=['user_id', 'item_id', 'rating'], how='left'\n",
    "    , indicator=True\n",
    "    )\n",
    "# keep only rows that are present in df1 but not in df2\n",
    "df_train = df_train[df_train['_merge'] == 'left_only'].drop(columns=['_merge'])\n",
    "\n",
    "user_item_features = feature_engineering(\n",
    "    dataframes={'user': dfs['user'], 'item': dfs['item'], 'data': df_train}\n",
    "    )\n",
    "\n",
    "# add negative sampling\n",
    "df_train_neg = candidate_generation(df_train, n=20+3*3+3*3, positive_sampling=False)\n",
    "df_test_neg = df_train_neg.groupby(by=['user_id']).sample(n=3*3)\n",
    "df_train_neg = df_train_neg.drop(df_test_neg.index)\n",
    "\n",
    "df_train = pd.concat([df_train, df_train_neg], ignore_index=True)\n",
    "df_test = pd.concat([df_test, df_test_neg], ignore_index=True)\n",
    "\n",
    "\n",
    "df_train, df_test = [\n",
    "    build_rank_input(ratings=df.iloc[:,:3], features=user_item_features) for df in (df_train, df_test)\n",
    "    ]"
   ]
  },
  {
   "cell_type": "code",
   "execution_count": 10,
   "id": "bbc255b0",
   "metadata": {},
   "outputs": [
    {
     "data": {
      "text/plain": [
       "0.980886431619589"
      ]
     },
     "execution_count": 10,
     "metadata": {},
     "output_type": "execute_result"
    }
   ],
   "source": [
    "from sklearn.metrics import ndcg_score\n",
    "from xgboost import XGBRanker\n",
    "import numpy as np\n",
    "\n",
    "clf = XGBRanker(**study.best_trial.params)\n",
    "clf.fit(\n",
    "    df_train['X'], df_train['y'].astype(int)\n",
    "    , group=df_train['group']\n",
    "    , verbose=False\n",
    "    )\n",
    "\n",
    "preds = clf.predict(df_test['X'])\n",
    "offset = 0\n",
    "ndcgs = []\n",
    "for group_size in df_test['group']:\n",
    "    y_true_group = df_test['y'][offset:offset+group_size]\n",
    "    preds_group = preds[offset:offset+group_size]\n",
    "    ndcgs.append(ndcg_score([y_true_group], [preds_group]))\n",
    "    offset += group_size\n",
    "np.mean(ndcgs)"
   ]
  },
  {
   "cell_type": "code",
   "execution_count": 11,
   "id": "acd12863",
   "metadata": {},
   "outputs": [
    {
     "data": {
      "text/plain": [
       "{'action': [267, 1373],\n",
       " 'adventure': [50, 181, 300, 121, 174],\n",
       " 'animation': [50, 181, 174, 117, 172],\n",
       " 'children': [1, 71, 95, 588, 432],\n",
       " 'comedy': [1, 151, 423, 132, 71],\n",
       " 'crime': [294, 1, 204, 151, 173],\n",
       " 'documentary': [100, 127, 56, 302, 12],\n",
       " 'drama': [48, 32, 813, 847, 1065],\n",
       " 'fantasy': [258, 100, 286, 127, 56],\n",
       " 'film_noir': [423, 411, 472, 72, 755],\n",
       " 'horror': [302, 89, 654, 484, 657],\n",
       " 'musical': [288, 183, 234, 185, 200],\n",
       " 'mystery': [289, 186, 132, 143, 71],\n",
       " 'romance': [405, 302, 328, 191, 135],\n",
       " 'sci_fi': [50, 181, 286, 237, 172],\n",
       " 'thriller': [50, 258, 181, 121, 7],\n",
       " 'war': [100, 288, 300, 98, 117],\n",
       " 'western': [50, 181, 286, 121, 172],\n",
       " 'unknown': [97, 435, 203, 177, 73]}"
      ]
     },
     "execution_count": 11,
     "metadata": {},
     "output_type": "execute_result"
    }
   ],
   "source": [
    "baseline = dfs['data'].merge(\n",
    "    dfs['item'].drop(columns=['movie_title', 'release_date', 'imdb_url'])\n",
    "    , how='left', on='item_id'\n",
    "    )\n",
    "\n",
    "top_items_by_genre = {}\n",
    "\n",
    "# genre columns\n",
    "genre_cols = baseline.columns[4:]\n",
    "\n",
    "# loop over each genre\n",
    "for genre in genre_cols:\n",
    "    # filter ratings for movies that belong to this genre\n",
    "    genre_ratings = baseline[baseline[genre] == 1]\n",
    "    \n",
    "    # Count the number of ratings per item\n",
    "    top_items = (\n",
    "        genre_ratings\n",
    "        .groupby('item_id')\n",
    "        .size()\n",
    "        .sort_values(ascending=False)\n",
    "        .head(5)\n",
    "    )\n",
    "\n",
    "    # Save results\n",
    "    top_items_by_genre[genre] = list(top_items.index)\n",
    "\n",
    "top_items_by_genre"
   ]
  },
  {
   "cell_type": "code",
   "execution_count": 12,
   "id": "57bf480a",
   "metadata": {},
   "outputs": [
    {
     "name": "stderr",
     "output_type": "stream",
     "text": [
      "C:\\Users\\gonpr\\AppData\\Local\\Temp\\ipykernel_26288\\4265955894.py:12: SettingWithCopyWarning: \n",
      "A value is trying to be set on a copy of a slice from a DataFrame.\n",
      "Try using .loc[row_indexer,col_indexer] = value instead\n",
      "\n",
      "See the caveats in the documentation: https://pandas.pydata.org/pandas-docs/stable/user_guide/indexing.html#returning-a-view-versus-a-copy\n",
      "  users_genre_i.loc[:, 'item_id'] = [top_items_by_genre[genre]]* users_genre_i.shape[0]\n",
      "C:\\Users\\gonpr\\AppData\\Local\\Temp\\ipykernel_26288\\4265955894.py:12: SettingWithCopyWarning: \n",
      "A value is trying to be set on a copy of a slice from a DataFrame.\n",
      "Try using .loc[row_indexer,col_indexer] = value instead\n",
      "\n",
      "See the caveats in the documentation: https://pandas.pydata.org/pandas-docs/stable/user_guide/indexing.html#returning-a-view-versus-a-copy\n",
      "  users_genre_i.loc[:, 'item_id'] = [top_items_by_genre[genre]]* users_genre_i.shape[0]\n",
      "C:\\Users\\gonpr\\AppData\\Local\\Temp\\ipykernel_26288\\4265955894.py:12: SettingWithCopyWarning: \n",
      "A value is trying to be set on a copy of a slice from a DataFrame.\n",
      "Try using .loc[row_indexer,col_indexer] = value instead\n",
      "\n",
      "See the caveats in the documentation: https://pandas.pydata.org/pandas-docs/stable/user_guide/indexing.html#returning-a-view-versus-a-copy\n",
      "  users_genre_i.loc[:, 'item_id'] = [top_items_by_genre[genre]]* users_genre_i.shape[0]\n",
      "C:\\Users\\gonpr\\AppData\\Local\\Temp\\ipykernel_26288\\4265955894.py:12: SettingWithCopyWarning: \n",
      "A value is trying to be set on a copy of a slice from a DataFrame.\n",
      "Try using .loc[row_indexer,col_indexer] = value instead\n",
      "\n",
      "See the caveats in the documentation: https://pandas.pydata.org/pandas-docs/stable/user_guide/indexing.html#returning-a-view-versus-a-copy\n",
      "  users_genre_i.loc[:, 'item_id'] = [top_items_by_genre[genre]]* users_genre_i.shape[0]\n",
      "C:\\Users\\gonpr\\AppData\\Local\\Temp\\ipykernel_26288\\4265955894.py:12: SettingWithCopyWarning: \n",
      "A value is trying to be set on a copy of a slice from a DataFrame.\n",
      "Try using .loc[row_indexer,col_indexer] = value instead\n",
      "\n",
      "See the caveats in the documentation: https://pandas.pydata.org/pandas-docs/stable/user_guide/indexing.html#returning-a-view-versus-a-copy\n",
      "  users_genre_i.loc[:, 'item_id'] = [top_items_by_genre[genre]]* users_genre_i.shape[0]\n",
      "C:\\Users\\gonpr\\AppData\\Local\\Temp\\ipykernel_26288\\4265955894.py:12: SettingWithCopyWarning: \n",
      "A value is trying to be set on a copy of a slice from a DataFrame.\n",
      "Try using .loc[row_indexer,col_indexer] = value instead\n",
      "\n",
      "See the caveats in the documentation: https://pandas.pydata.org/pandas-docs/stable/user_guide/indexing.html#returning-a-view-versus-a-copy\n",
      "  users_genre_i.loc[:, 'item_id'] = [top_items_by_genre[genre]]* users_genre_i.shape[0]\n",
      "C:\\Users\\gonpr\\AppData\\Local\\Temp\\ipykernel_26288\\4265955894.py:12: SettingWithCopyWarning: \n",
      "A value is trying to be set on a copy of a slice from a DataFrame.\n",
      "Try using .loc[row_indexer,col_indexer] = value instead\n",
      "\n",
      "See the caveats in the documentation: https://pandas.pydata.org/pandas-docs/stable/user_guide/indexing.html#returning-a-view-versus-a-copy\n",
      "  users_genre_i.loc[:, 'item_id'] = [top_items_by_genre[genre]]* users_genre_i.shape[0]\n",
      "C:\\Users\\gonpr\\AppData\\Local\\Temp\\ipykernel_26288\\4265955894.py:12: SettingWithCopyWarning: \n",
      "A value is trying to be set on a copy of a slice from a DataFrame.\n",
      "Try using .loc[row_indexer,col_indexer] = value instead\n",
      "\n",
      "See the caveats in the documentation: https://pandas.pydata.org/pandas-docs/stable/user_guide/indexing.html#returning-a-view-versus-a-copy\n",
      "  users_genre_i.loc[:, 'item_id'] = [top_items_by_genre[genre]]* users_genre_i.shape[0]\n"
     ]
    }
   ],
   "source": [
    "user_genre_counts = baseline.groupby('user_id')[genre_cols].sum()\n",
    "\n",
    "# Get the genre with the max count per user\n",
    "user_genre = user_genre_counts.idxmax(axis=1).reset_index()\n",
    "user_genre.columns = ['user_id', 'genre']\n",
    "\n",
    "result = []\n",
    "\n",
    "for genre in top_items_by_genre.keys():\n",
    "    \n",
    "    users_genre_i = user_genre[user_genre['genre']==genre]\n",
    "    users_genre_i.loc[:, 'item_id'] = [top_items_by_genre[genre]]* users_genre_i.shape[0]\n",
    "    result.append(users_genre_i)\n",
    "\n",
    "result = (\n",
    "    pd.concat(result, axis=0, ignore_index=True)\n",
    "    .sort_values('user_id', ascending=True)\n",
    "    .reset_index(drop=True)\n",
    "    .drop(columns=['genre'])\n",
    "    )\n",
    "\n",
    "result.loc[:, 'rating'] = [list(range(5)[::-1])] * result.shape[0]\n",
    "result = result.explode(column=['item_id', 'rating'])\n",
    "\n",
    "df_baseline = build_rank_input(ratings=result.iloc[:,:3], features=user_item_features)"
   ]
  },
  {
   "cell_type": "code",
   "execution_count": 13,
   "id": "032635c6",
   "metadata": {},
   "outputs": [
    {
     "data": {
      "text/plain": [
       "0.7543890666748849"
      ]
     },
     "execution_count": 13,
     "metadata": {},
     "output_type": "execute_result"
    }
   ],
   "source": [
    "preds = clf.predict(df_baseline['X'])\n",
    "offset = 0\n",
    "ndcgs = []\n",
    "for group_size in df_baseline['group']:\n",
    "    y_true_group = np.array(df_baseline['y'][offset:offset+group_size], dtype=float)\n",
    "    preds_group = preds[offset:offset+group_size]\n",
    "    ndcgs.append(ndcg_score([y_true_group], [preds_group]))\n",
    "    offset += group_size\n",
    "np.mean(ndcgs)"
   ]
  }
 ],
 "metadata": {
  "kernelspec": {
   "display_name": ".venv",
   "language": "python",
   "name": "python3"
  },
  "language_info": {
   "codemirror_mode": {
    "name": "ipython",
    "version": 3
   },
   "file_extension": ".py",
   "mimetype": "text/x-python",
   "name": "python",
   "nbconvert_exporter": "python",
   "pygments_lexer": "ipython3",
   "version": "3.11.9"
  }
 },
 "nbformat": 4,
 "nbformat_minor": 5
}

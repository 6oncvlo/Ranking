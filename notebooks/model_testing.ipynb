{
 "cells": [
  {
   "cell_type": "code",
   "execution_count": 1,
   "id": "6fa35c35",
   "metadata": {},
   "outputs": [],
   "source": [
    "import sys\n",
    "import os\n",
    "\n",
    "sys.path.append(os.path.abspath('..'))\n",
    "\n",
    "import yaml\n",
    "import optuna\n",
    "\n",
    "from src.data.load import load_data\n",
    "from src.data.prepare import prepare_data\n",
    "from src.models.cv_iterator import leave_last_k\n",
    "from src.data.features import feature_engineering\n",
    "from src.data.utils import build_rank_input\n",
    "from src.models.tuner import BayesianSearch\n",
    "from src.models.evaluator import evaluation"
   ]
  },
  {
   "cell_type": "code",
   "execution_count": 2,
   "id": "0cbdb26b",
   "metadata": {},
   "outputs": [],
   "source": [
    "# read config\n",
    "with open('../config.yml', 'r') as file:\n",
    "    config=yaml.load(file, Loader= yaml.SafeLoader)\n",
    "del file"
   ]
  },
  {
   "cell_type": "code",
   "execution_count": 3,
   "id": "de3ceb8d",
   "metadata": {},
   "outputs": [],
   "source": [
    "# load and prepare data\n",
    "dfs = load_data(config=config['data_loader'])\n",
    "dfs = prepare_data(dataframes=dfs)"
   ]
  },
  {
   "cell_type": "code",
   "execution_count": 4,
   "id": "bbe7e5ce",
   "metadata": {},
   "outputs": [],
   "source": [
    "# train-test split\n",
    "df_train, df_test = leave_last_k(df=dfs['data'], config=config['optimization'])\n",
    "df_train, df_valid = leave_last_k(df=df_train, config=config['optimization'])"
   ]
  },
  {
   "cell_type": "code",
   "execution_count": 5,
   "id": "7335e682",
   "metadata": {},
   "outputs": [],
   "source": [
    "user_item_features = feature_engineering(\n",
    "    dataframes={'user': dfs['user'], 'item': dfs['item'], 'data': df_train}\n",
    "    )"
   ]
  },
  {
   "cell_type": "code",
   "execution_count": 6,
   "id": "442d5f43",
   "metadata": {},
   "outputs": [],
   "source": [
    "import pandas as pd\n",
    "from src.models.candidate import candidate_generation\n",
    "\n",
    "df_train_neg = candidate_generation(df_train, n=20, positive_sampling=False)\n",
    "df_train = pd.concat([df_train.iloc[:,:3], df_train_neg], ignore_index=True)\n",
    "\n",
    "del df_train_neg\n",
    "\n",
    "df_train, df_valid = [\n",
    "    build_rank_input(ratings=df.iloc[:,:3], features=user_item_features) for df in (df_train, df_valid)\n",
    "    ]"
   ]
  },
  {
   "cell_type": "code",
   "execution_count": 7,
   "id": "bc2fdc26",
   "metadata": {},
   "outputs": [
    {
     "name": "stderr",
     "output_type": "stream",
     "text": [
      "[I 2025-04-22 20:33:05,966] A new study created in memory with name: no-name-8cc3aa7d-4385-4e5d-9a49-831bd06ad03e\n",
      "[I 2025-04-22 20:33:08,613] Trial 0 finished with value: 0.943762258524755 and parameters: {'learning_rate': 0.19919452259324139, 'gamma': 0.24989044257933968, 'max_depth': 9, 'subsample': 0.9458610345233347, 'n_estimators': 169}. Best is trial 0 with value: 0.943762258524755.\n",
      "[I 2025-04-22 20:33:11,418] Trial 1 finished with value: 0.9477705768414255 and parameters: {'learning_rate': 0.0912024803712384, 'gamma': 3.8535621135237146, 'max_depth': 3, 'subsample': 0.825040631166075, 'n_estimators': 284}. Best is trial 1 with value: 0.9477705768414255.\n",
      "[I 2025-04-22 20:33:12,461] Trial 2 finished with value: 0.9454059538705104 and parameters: {'learning_rate': 0.13851670177699218, 'gamma': 0.15554303593300733, 'max_depth': 6, 'subsample': 0.6319260803729445, 'n_estimators': 55}. Best is trial 1 with value: 0.9477705768414255.\n",
      "[I 2025-04-22 20:33:13,633] Trial 3 finished with value: 0.9470235109618127 and parameters: {'learning_rate': 0.21488664241447, 'gamma': 1.386932184595087, 'max_depth': 7, 'subsample': 0.9984023369238603, 'n_estimators': 77}. Best is trial 1 with value: 0.9477705768414255.\n",
      "[I 2025-04-22 20:33:16,685] Trial 4 finished with value: 0.9476358313817953 and parameters: {'learning_rate': 0.04264086517942752, 'gamma': 4.714239283191498, 'max_depth': 3, 'subsample': 0.8269329533920929, 'n_estimators': 299}. Best is trial 1 with value: 0.9477705768414255.\n",
      "[I 2025-04-22 20:33:19,648] Trial 5 finished with value: 0.9478919492718894 and parameters: {'learning_rate': 0.10897271422092066, 'gamma': 3.297153601089247, 'max_depth': 4, 'subsample': 0.9630232042170324, 'n_estimators': 297}. Best is trial 5 with value: 0.9478919492718894.\n",
      "[I 2025-04-22 20:33:21,090] Trial 6 finished with value: 0.9468335804220375 and parameters: {'learning_rate': 0.1734207437021416, 'gamma': 1.63267438095424, 'max_depth': 3, 'subsample': 0.8819583816926718, 'n_estimators': 102}. Best is trial 5 with value: 0.9478919492718894.\n",
      "[I 2025-04-22 20:33:22,855] Trial 7 finished with value: 0.9476671698773327 and parameters: {'learning_rate': 0.032214042230712496, 'gamma': 3.4903045899240297, 'max_depth': 3, 'subsample': 0.6713853651238888, 'n_estimators': 153}. Best is trial 5 with value: 0.9478919492718894.\n",
      "[I 2025-04-22 20:33:23,865] Trial 8 finished with value: 0.9457057108687246 and parameters: {'learning_rate': 0.0641688691118138, 'gamma': 4.262231730886345, 'max_depth': 7, 'subsample': 0.9052479674836238, 'n_estimators': 50}. Best is trial 5 with value: 0.9478919492718894.\n",
      "[I 2025-04-22 20:33:26,380] Trial 9 finished with value: 0.9476266592667919 and parameters: {'learning_rate': 0.13633514468259858, 'gamma': 4.246620842945033, 'max_depth': 7, 'subsample': 0.6761611795903797, 'n_estimators': 242}. Best is trial 5 with value: 0.9478919492718894.\n",
      "[I 2025-04-22 20:33:28,701] Trial 10 finished with value: 0.9470203259259223 and parameters: {'learning_rate': 0.28171737794273843, 'gamma': 3.0217455651676, 'max_depth': 5, 'subsample': 0.5635569732777482, 'n_estimators': 226}. Best is trial 5 with value: 0.9478919492718894.\n",
      "[I 2025-04-22 20:33:32,283] Trial 11 finished with value: 0.9474802654254637 and parameters: {'learning_rate': 0.09013748240133851, 'gamma': 3.3531358379498295, 'max_depth': 5, 'subsample': 0.7885344159003231, 'n_estimators': 300}. Best is trial 5 with value: 0.9478919492718894.\n",
      "[I 2025-04-22 20:33:36,282] Trial 12 finished with value: 0.9479984594213261 and parameters: {'learning_rate': 0.10593557246046809, 'gamma': 2.860170838693225, 'max_depth': 4, 'subsample': 0.836027815527547, 'n_estimators': 246}. Best is trial 12 with value: 0.9479984594213261.\n",
      "[I 2025-04-22 20:33:40,734] Trial 13 finished with value: 0.9469570136891005 and parameters: {'learning_rate': 0.11233308855534395, 'gamma': 2.0324774710920557, 'max_depth': 5, 'subsample': 0.9951031009868867, 'n_estimators': 243}. Best is trial 12 with value: 0.9479984594213261.\n",
      "[I 2025-04-22 20:33:44,467] Trial 14 finished with value: 0.9468860542379551 and parameters: {'learning_rate': 0.011423171899521703, 'gamma': 2.7543826389917743, 'max_depth': 4, 'subsample': 0.7385024443001008, 'n_estimators': 205}. Best is trial 12 with value: 0.9479984594213261.\n",
      "[I 2025-04-22 20:33:48,453] Trial 15 finished with value: 0.9479881481100395 and parameters: {'learning_rate': 0.1661377711699223, 'gamma': 2.3550017320609906, 'max_depth': 10, 'subsample': 0.8894477876237064, 'n_estimators': 259}. Best is trial 12 with value: 0.9479984594213261.\n",
      "[I 2025-04-22 20:33:52,410] Trial 16 finished with value: 0.9472607251208305 and parameters: {'learning_rate': 0.26438814164034846, 'gamma': 2.383714471850939, 'max_depth': 10, 'subsample': 0.8743119919245238, 'n_estimators': 261}. Best is trial 12 with value: 0.9479984594213261.\n",
      "[I 2025-04-22 20:33:55,934] Trial 17 finished with value: 0.9470957108858307 and parameters: {'learning_rate': 0.16904091702255356, 'gamma': 0.9885848419108496, 'max_depth': 9, 'subsample': 0.7428838095883302, 'n_estimators': 199}. Best is trial 12 with value: 0.9479984594213261.\n",
      "[I 2025-04-22 20:33:58,548] Trial 18 finished with value: 0.9462196294112727 and parameters: {'learning_rate': 0.24590406788032926, 'gamma': 2.3312762907330677, 'max_depth': 8, 'subsample': 0.813234288575055, 'n_estimators': 138}. Best is trial 12 with value: 0.9479984594213261.\n",
      "[I 2025-04-22 20:34:03,674] Trial 19 finished with value: 0.9454593664990707 and parameters: {'learning_rate': 0.22264998247107973, 'gamma': 0.9174448502121284, 'max_depth': 10, 'subsample': 0.9140595861631804, 'n_estimators': 259}. Best is trial 12 with value: 0.9479984594213261.\n"
     ]
    }
   ],
   "source": [
    "# perform bayesian search\n",
    "searcher = BayesianSearch(config['optimization']['hyper_params'], algorithm='XGBRanker')\n",
    "\n",
    "def objective(trial) -> float:\n",
    "    return searcher.fit(df_train, df_valid, trial)\n",
    "\n",
    "study = optuna.create_study(direction='maximize')\n",
    "study.optimize(objective, n_trials=20)"
   ]
  },
  {
   "cell_type": "code",
   "execution_count": 8,
   "id": "a9f0a664",
   "metadata": {},
   "outputs": [
    {
     "name": "stdout",
     "output_type": "stream",
     "text": [
      "Best trial:\n",
      "{'learning_rate': 0.10593557246046809, 'gamma': 2.860170838693225, 'max_depth': 4, 'subsample': 0.836027815527547, 'n_estimators': 246}\n"
     ]
    }
   ],
   "source": [
    "print(\"Best trial:\")\n",
    "print(study.best_trial.params)"
   ]
  },
  {
   "cell_type": "code",
   "execution_count": 9,
   "id": "9039a41b",
   "metadata": {},
   "outputs": [],
   "source": [
    "import pandas as pd\n",
    "\n",
    "# use indicator to know the origin\n",
    "df_train = dfs['data'].merge(\n",
    "    df_test\n",
    "    , on=['user_id', 'item_id', 'rating'], how='left'\n",
    "    , indicator=True\n",
    "    )\n",
    "# keep only rows that are present in df1 but not in df2\n",
    "df_train = df_train[df_train['_merge'] == 'left_only'].drop(columns=['_merge'])\n",
    "\n",
    "user_item_features = feature_engineering(\n",
    "    dataframes={'user': dfs['user'], 'item': dfs['item'], 'data': df_train}\n",
    "    )\n",
    "\n",
    "# add negative sampling\n",
    "df_train_neg = candidate_generation(df_train, n=20, positive_sampling=False)\n",
    "df_train_ = pd.concat([df_train, df_train_neg], ignore_index=True)\n",
    "\n",
    "del df_train_neg\n",
    "\n",
    "df_train_, df_test_ = [\n",
    "    build_rank_input(ratings=df.iloc[:,:3], features=user_item_features) for df in (df_train_, df_test)\n",
    "    ]"
   ]
  },
  {
   "cell_type": "code",
   "execution_count": 10,
   "id": "bbc255b0",
   "metadata": {},
   "outputs": [
    {
     "name": "stdout",
     "output_type": "stream",
     "text": [
      "0.952881871545766\n"
     ]
    }
   ],
   "source": [
    "from sklearn.metrics import ndcg_score\n",
    "from xgboost import XGBRanker\n",
    "import numpy as np\n",
    "\n",
    "clf = XGBRanker(**study.best_trial.params)\n",
    "clf.fit(\n",
    "    df_train_['X'], df_train_['y'].astype(int)\n",
    "    , group=df_train_['group']\n",
    "    , verbose=False\n",
    "    )\n",
    "\n",
    "preds = clf.predict(df_test_['X'])\n",
    "\n",
    "print(evaluation(df_test_['y'], preds, df_test_['group']))"
   ]
  },
  {
   "cell_type": "code",
   "execution_count": 11,
   "id": "c053c1a5",
   "metadata": {},
   "outputs": [
    {
     "name": "stdout",
     "output_type": "stream",
     "text": [
      "Coverage: 0.6463195691202872\n",
      "Novelty: 0.9984584266355963\n"
     ]
    }
   ],
   "source": [
    "def calculate_metrics(top_items, data):\n",
    "    # Coverage: proportion of unique items recommended\n",
    "    recommended_items = top_items['item_id'].unique()\n",
    "    total_items = data['item_id'].unique()\n",
    "    coverage_score = len(recommended_items) / len(total_items)\n",
    "    \n",
    "    # Novelty: Based on item popularity (inverse)\n",
    "    item_popularity = data.groupby('item_id').size()\n",
    "    item_popularity = item_popularity[item_popularity > 0]\n",
    "    item_popularity = 1 - item_popularity / item_popularity.sum()  # Normalize\n",
    "    novelty_score = top_items['item_id'].map(item_popularity).mean()\n",
    "\n",
    "    return coverage_score, novelty_score\n",
    "\n",
    "# Calculate metrics for the recommendations\n",
    "coverage_score, novelty_score = calculate_metrics(df_test.iloc[:, :2], df_train.iloc[:, :3])\n",
    "# Print out the results\n",
    "print(f'Coverage: {coverage_score}')\n",
    "print(f'Novelty: {novelty_score}')"
   ]
  },
  {
   "cell_type": "code",
   "execution_count": 12,
   "id": "24edad59",
   "metadata": {},
   "outputs": [
    {
     "name": "stdout",
     "output_type": "stream",
     "text": [
      "0.9168812846621082\n"
     ]
    }
   ],
   "source": [
    "from src.models.baseline import baseline_model\n",
    "\n",
    "result = baseline_model(dataframes=dfs, n=10)\n",
    "group = result.groupby('user_id').size().to_list()\n",
    "\n",
    "print(evaluation(result['rating'], result['est_rating'], group))\n",
    "del group"
   ]
  },
  {
   "cell_type": "code",
   "execution_count": 13,
   "id": "032635c6",
   "metadata": {},
   "outputs": [
    {
     "name": "stdout",
     "output_type": "stream",
     "text": [
      "0.948952904515824\n"
     ]
    }
   ],
   "source": [
    "user_item_features = feature_engineering(dataframes={\n",
    "    'user': dfs['user'], 'item': dfs['item'], 'data': dfs['data']\n",
    "    })\n",
    "\n",
    "df_baseline = build_rank_input(ratings=result.drop(columns=['est_rating']), features=user_item_features)\n",
    "\n",
    "preds = clf.predict(df_baseline['X'])\n",
    "print(evaluation(df_baseline['y'], preds, df_baseline['group']))"
   ]
  }
 ],
 "metadata": {
  "kernelspec": {
   "display_name": ".venv",
   "language": "python",
   "name": "python3"
  },
  "language_info": {
   "codemirror_mode": {
    "name": "ipython",
    "version": 3
   },
   "file_extension": ".py",
   "mimetype": "text/x-python",
   "name": "python",
   "nbconvert_exporter": "python",
   "pygments_lexer": "ipython3",
   "version": "3.11.9"
  }
 },
 "nbformat": 4,
 "nbformat_minor": 5
}

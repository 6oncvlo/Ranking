{
 "cells": [
  {
   "cell_type": "code",
   "execution_count": 1,
   "id": "6fa35c35",
   "metadata": {},
   "outputs": [
    {
     "name": "stderr",
     "output_type": "stream",
     "text": [
      "c:\\Users\\gonpr\\ML_Projects\\Ranking\\.venv\\Lib\\site-packages\\tqdm\\auto.py:21: TqdmWarning: IProgress not found. Please update jupyter and ipywidgets. See https://ipywidgets.readthedocs.io/en/stable/user_install.html\n",
      "  from .autonotebook import tqdm as notebook_tqdm\n"
     ]
    }
   ],
   "source": [
    "import sys\n",
    "import os\n",
    "\n",
    "sys.path.append(os.path.abspath('..'))\n",
    "\n",
    "import yaml\n",
    "import optuna\n",
    "\n",
    "from src.data.load import load_data\n",
    "from src.data.prepare import prepare_data\n",
    "from src.models.cv_iterator import leave_last_k\n",
    "from src.data.features import feature_engineering\n",
    "from src.data.utils import build_rank_input\n",
    "from src.models.tuner import BayesianSearch"
   ]
  },
  {
   "cell_type": "code",
   "execution_count": 2,
   "id": "0cbdb26b",
   "metadata": {},
   "outputs": [],
   "source": [
    "# read config\n",
    "with open('../config.yml', 'r') as file:\n",
    "    config=yaml.load(file, Loader= yaml.SafeLoader)\n",
    "del file"
   ]
  },
  {
   "cell_type": "code",
   "execution_count": 3,
   "id": "de3ceb8d",
   "metadata": {},
   "outputs": [],
   "source": [
    "# load and prepare data\n",
    "dataframes = load_data(config=config['data_loader'])\n",
    "dataframes = prepare_data(dataframes=dataframes)"
   ]
  },
  {
   "cell_type": "code",
   "execution_count": 4,
   "id": "bbe7e5ce",
   "metadata": {},
   "outputs": [],
   "source": [
    "# train-test split\n",
    "df_train, df_test = leave_last_k(df=dataframes['data'], config=config['optimization'])\n",
    "df_train, df_valid = leave_last_k(df=df_train, config=config['optimization'])"
   ]
  },
  {
   "cell_type": "code",
   "execution_count": 5,
   "id": "7335e682",
   "metadata": {},
   "outputs": [],
   "source": [
    "user_item_features = feature_engineering(\n",
    "    dataframes={'user': dataframes['user'], 'item': dataframes['item'], 'data': df_train}\n",
    "    )\n",
    "\n",
    "df_train, df_valid = [\n",
    "    build_rank_input(ratings=df, features=user_item_features) for df in (df_train, df_valid)\n",
    "    ]"
   ]
  },
  {
   "cell_type": "code",
   "execution_count": 6,
   "id": "bc2fdc26",
   "metadata": {},
   "outputs": [
    {
     "name": "stderr",
     "output_type": "stream",
     "text": [
      "[I 2025-04-21 01:15:12,450] A new study created in memory with name: no-name-8eadb1e6-de14-4d79-9af6-937a614536cf\n",
      "[I 2025-04-21 01:15:20,164] Trial 0 finished with value: 0.9617892773862179 and parameters: {'learning_rate': 0.24240001362310556, 'gamma': 2.7715715652927466, 'max_depth': 3, 'subsample': 0.5217270640738172, 'n_estimators': 279}. Best is trial 0 with value: 0.9617892773862179.\n",
      "[I 2025-04-21 01:15:26,762] Trial 1 finished with value: 0.9628529398037687 and parameters: {'learning_rate': 0.2846294055763265, 'gamma': 2.2140847691963907, 'max_depth': 4, 'subsample': 0.9454721667366937, 'n_estimators': 246}. Best is trial 1 with value: 0.9628529398037687.\n",
      "[I 2025-04-21 01:15:32,968] Trial 2 finished with value: 0.9627550224806303 and parameters: {'learning_rate': 0.22086209588100414, 'gamma': 4.894843972198751, 'max_depth': 5, 'subsample': 0.5211338844377278, 'n_estimators': 217}. Best is trial 1 with value: 0.9628529398037687.\n",
      "[I 2025-04-21 01:15:35,568] Trial 3 finished with value: 0.962469941127815 and parameters: {'learning_rate': 0.1526861043681319, 'gamma': 2.3110441430597604, 'max_depth': 8, 'subsample': 0.9545313846207899, 'n_estimators': 55}. Best is trial 1 with value: 0.9628529398037687.\n",
      "[I 2025-04-21 01:15:39,108] Trial 4 finished with value: 0.9626909050807019 and parameters: {'learning_rate': 0.03036831041397843, 'gamma': 2.279772720453094, 'max_depth': 3, 'subsample': 0.6469328819458348, 'n_estimators': 111}. Best is trial 1 with value: 0.9628529398037687.\n",
      "[I 2025-04-21 01:15:43,918] Trial 5 finished with value: 0.9632902426848484 and parameters: {'learning_rate': 0.16982961353358975, 'gamma': 4.294388545896818, 'max_depth': 6, 'subsample': 0.618452753400277, 'n_estimators': 185}. Best is trial 5 with value: 0.9632902426848484.\n",
      "[I 2025-04-21 01:15:49,128] Trial 6 finished with value: 0.9611105000198878 and parameters: {'learning_rate': 0.11666614240155035, 'gamma': 1.6419620028108088, 'max_depth': 10, 'subsample': 0.5826057396890922, 'n_estimators': 181}. Best is trial 5 with value: 0.9632902426848484.\n",
      "[I 2025-04-21 01:15:57,899] Trial 7 finished with value: 0.9612399424616387 and parameters: {'learning_rate': 0.14075931536064545, 'gamma': 0.07945982756698222, 'max_depth': 7, 'subsample': 0.9150555747968138, 'n_estimators': 268}. Best is trial 5 with value: 0.9632902426848484.\n",
      "[I 2025-04-21 01:16:04,338] Trial 8 finished with value: 0.9617094090636481 and parameters: {'learning_rate': 0.1564746949809196, 'gamma': 1.7167546449994338, 'max_depth': 9, 'subsample': 0.7142630478283967, 'n_estimators': 250}. Best is trial 5 with value: 0.9632902426848484.\n",
      "[I 2025-04-21 01:16:08,008] Trial 9 finished with value: 0.9606471907614301 and parameters: {'learning_rate': 0.08163952763588833, 'gamma': 1.4212682119091335, 'max_depth': 8, 'subsample': 0.7712423183290725, 'n_estimators': 103}. Best is trial 5 with value: 0.9632902426848484.\n",
      "[I 2025-04-21 01:16:12,488] Trial 10 finished with value: 0.9624179672654809 and parameters: {'learning_rate': 0.20606167711120252, 'gamma': 4.334178820197988, 'max_depth': 6, 'subsample': 0.808933609602835, 'n_estimators': 167}. Best is trial 5 with value: 0.9632902426848484.\n",
      "[I 2025-04-21 01:16:17,719] Trial 11 finished with value: 0.9624032509549529 and parameters: {'learning_rate': 0.28939040360300317, 'gamma': 3.5691031705021983, 'max_depth': 5, 'subsample': 0.8717579720900702, 'n_estimators': 207}. Best is trial 5 with value: 0.9632902426848484.\n",
      "[I 2025-04-21 01:16:23,450] Trial 12 finished with value: 0.9627173788228396 and parameters: {'learning_rate': 0.2768967415741875, 'gamma': 3.3856354592187263, 'max_depth': 5, 'subsample': 0.9927621177305405, 'n_estimators': 232}. Best is trial 5 with value: 0.9632902426848484.\n",
      "[I 2025-04-21 01:16:28,235] Trial 13 finished with value: 0.9607216881642239 and parameters: {'learning_rate': 0.18655624310086008, 'gamma': 0.6305324235926792, 'max_depth': 4, 'subsample': 0.6846008677059807, 'n_estimators': 162}. Best is trial 5 with value: 0.9632902426848484.\n",
      "[I 2025-04-21 01:16:35,448] Trial 14 finished with value: 0.9629280844057543 and parameters: {'learning_rate': 0.07339831764103386, 'gamma': 3.677846074295954, 'max_depth': 6, 'subsample': 0.6252661664293994, 'n_estimators': 287}. Best is trial 5 with value: 0.9632902426848484.\n",
      "[I 2025-04-21 01:16:43,508] Trial 15 finished with value: 0.9627323943642873 and parameters: {'learning_rate': 0.01986902400443516, 'gamma': 3.8667212687025048, 'max_depth': 7, 'subsample': 0.6194898806473027, 'n_estimators': 294}. Best is trial 5 with value: 0.9632902426848484.\n",
      "[I 2025-04-21 01:16:47,742] Trial 16 finished with value: 0.9630081501787441 and parameters: {'learning_rate': 0.07764603822473852, 'gamma': 4.781850138853275, 'max_depth': 6, 'subsample': 0.5924094378671906, 'n_estimators': 146}. Best is trial 5 with value: 0.9632902426848484.\n",
      "[I 2025-04-21 01:16:51,870] Trial 17 finished with value: 0.9630215312745422 and parameters: {'learning_rate': 0.09181222554879916, 'gamma': 4.602328161256306, 'max_depth': 8, 'subsample': 0.5373119567448931, 'n_estimators': 131}. Best is trial 5 with value: 0.9632902426848484.\n",
      "[I 2025-04-21 01:16:55,618] Trial 18 finished with value: 0.9630673126564232 and parameters: {'learning_rate': 0.10054541085324273, 'gamma': 4.29291561191845, 'max_depth': 8, 'subsample': 0.5024660623093394, 'n_estimators': 106}. Best is trial 5 with value: 0.9632902426848484.\n",
      "[I 2025-04-21 01:16:58,408] Trial 19 finished with value: 0.9627248023567969 and parameters: {'learning_rate': 0.11595777764491136, 'gamma': 3.032743066394577, 'max_depth': 10, 'subsample': 0.5657432489602919, 'n_estimators': 56}. Best is trial 5 with value: 0.9632902426848484.\n"
     ]
    }
   ],
   "source": [
    "# perform bayesian search\n",
    "searcher = BayesianSearch(config['optimization']['hyper_params'], algorithm='XGBRanker')\n",
    "\n",
    "def objective(trial) -> float:\n",
    "    return searcher.fit(df_train, df_valid, trial)\n",
    "\n",
    "study = optuna.create_study(direction='maximize')\n",
    "study.optimize(objective, n_trials=20)"
   ]
  },
  {
   "cell_type": "code",
   "execution_count": 7,
   "id": "a9f0a664",
   "metadata": {},
   "outputs": [
    {
     "name": "stdout",
     "output_type": "stream",
     "text": [
      "Best trial:\n",
      "{'learning_rate': 0.16982961353358975, 'gamma': 4.294388545896818, 'max_depth': 6, 'subsample': 0.618452753400277, 'n_estimators': 185}\n"
     ]
    }
   ],
   "source": [
    "print(\"Best trial:\")\n",
    "print(study.best_trial.params)"
   ]
  }
 ],
 "metadata": {
  "kernelspec": {
   "display_name": ".venv",
   "language": "python",
   "name": "python3"
  },
  "language_info": {
   "codemirror_mode": {
    "name": "ipython",
    "version": 3
   },
   "file_extension": ".py",
   "mimetype": "text/x-python",
   "name": "python",
   "nbconvert_exporter": "python",
   "pygments_lexer": "ipython3",
   "version": "3.11.9"
  }
 },
 "nbformat": 4,
 "nbformat_minor": 5
}
